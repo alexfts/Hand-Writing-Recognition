{
 "cells": [
  {
   "cell_type": "code",
   "execution_count": 1,
   "metadata": {
    "collapsed": false
   },
   "outputs": [
    {
     "name": "stdout",
     "output_type": "stream",
     "text": [
      "Populating the interactive namespace from numpy and matplotlib\n"
     ]
    }
   ],
   "source": [
    "# imports\n",
    "import pandas as pd\n",
    "from pandas import DataFrame, Series\n",
    "import numpy as np\n",
    "import matplotlib.pyplot as plt\n",
    "import time\n",
    "import seaborn\n",
    "import os\n",
    "import string\n",
    "from PIL import Image\n",
    "\n",
    "%pylab inline"
   ]
  },
  {
   "cell_type": "code",
   "execution_count": 2,
   "metadata": {
    "collapsed": false
   },
   "outputs": [],
   "source": [
    "# Create a mapping from the image files to the character they represents\n",
    "character_list = list(string.digits + string.ascii_uppercase + string.ascii_lowercase)\n",
    "nums = range(1,len(character_list)+1)\n",
    "file_to_character = dict(zip(nums, character_list))"
   ]
  },
  {
   "cell_type": "code",
   "execution_count": 10,
   "metadata": {
    "collapsed": false
   },
   "outputs": [],
   "source": [
    "# Take the median size of the images as the standard_size for \n",
    "# normalization of the images\n",
    "path = '/home/reza/MachineLearning/Hand-Writing-Recognition/data/English/img/'\n",
    "img_sizes = []\n",
    "for folder in os.listdir(path):\n",
    "    for img_file in os.listdir(path+'/'+folder+'/'):\n",
    "        img = Image.open(path+'/'+folder+'/'+img_file)\n",
    "        img_sizes.append(img.size)\n",
    "\n",
    "# resize function only takes int values\n",
    "STANDARD_SIZE = map(int, median(img_sizes, axis=0))"
   ]
  },
  {
   "cell_type": "code",
   "execution_count": 6,
   "metadata": {
    "collapsed": false
   },
   "outputs": [],
   "source": [
    "# Create an image class that allows us to represent the image in matrix or vector from\n",
    "class img():\n",
    "    def __init__(self, img_file=None, img_path=None):\n",
    "        if img_file is None or img_path is None:\n",
    "            raise Exception('Must give an image file as input along'\n",
    "                            'with its file name')\n",
    "        self.img_matrix = None\n",
    "        self.img_vector = None\n",
    "        self.img_label = None\n",
    "        self.img_file = img_file\n",
    "        self.img_path = img_path\n",
    "        \n",
    "    def img_to_matrix(self):\n",
    "        \"\"\"\n",
    "        Extract a matrix representation of the image\n",
    "        \"\"\"\n",
    "        # Resize the image to a standard size\n",
    "        img_resized = self.img_file.resize(STANDARD_SIZE)\n",
    "        self.img_matrix = array(img_resized)\n",
    "\n",
    "    def flatten_image(self):\n",
    "        \"\"\"\n",
    "        Flatten the matrix representation of the image. If the\n",
    "        matrix has shape (m, n) then the vector representation\n",
    "        has shape (1, m * n)\n",
    "        \"\"\"\n",
    "        if self.img_matrix is None:\n",
    "            self.img_to_matrix()\n",
    "        s = self.img_matrix.shape[0] * self.img_matrix.shape[1]\n",
    "        self.img_vector = self.img_matrix.reshape(1, s)[0]\n",
    "\n",
    "    def get_img_label(self):\n",
    "        \"\"\"\"\n",
    "        Sets the label for the image file, i.e, the English\n",
    "        character the image is showing\n",
    "        \"\"\"\n",
    "        file_name = self.img_path.split('/')[-1][3:6]\n",
    "        self.img_label = file_to_character[int(file_name)]\n",
    "        \n",
    "# img1 = img(img_file=img_file, img_path='blahblah/im-001')\n",
    "# img1.img_label\n",
    "# img1.img_to_matrix()\n",
    "# print img1.img_matrix\n",
    "# img1.flatten_image()\n",
    "# img1.img_vector\n",
    "# img1.get_img_label()\n",
    "# img1.img_label\n"
   ]
  },
  {
   "cell_type": "code",
   "execution_count": 7,
   "metadata": {
    "collapsed": false
   },
   "outputs": [],
   "source": [
    "# Gather features of the image for building the training data\n",
    "path = '/home/reza/MachineLearning/Hand-Writing-Recognition/data/English/img/'\n",
    "data = []\n",
    "labels = []\n",
    "for folder in os.listdir(path):\n",
    "    for img_file in os.listdir(path+'/'+folder+'/'):\n",
    "        img_file = Image.open(path+'/'+folder+'/'+img_file)\n",
    "        img_path = img_file.filename\n",
    "        img_file = img_file.convert('L')\n",
    "        \n",
    "        # Open in the image file\n",
    "#         img_file = img_file.convert(\"L\").filter(ImageFilter.GaussianBlur(radius = 2))\n",
    "        curr_img = img(img_file=img_file, img_path=img_path)\n",
    "        \n",
    "        # Take a vectore representation of the image\n",
    "        curr_img.flatten_image()\n",
    "        data.append(curr_img.img_vector)\n",
    "        \n",
    "        # add the label\n",
    "        curr_img.get_img_label()\n",
    "        labels.append(curr_img.img_label)\n",
    "\n",
    "data = np.array(data)"
   ]
  },
  {
   "cell_type": "code",
   "execution_count": 8,
   "metadata": {
    "collapsed": false
   },
   "outputs": [
    {
     "name": "stderr",
     "output_type": "stream",
     "text": [
      "/home/reza/anaconda2/lib/python2.7/site-packages/ipykernel/__main__.py:20: SettingWithCopyWarning: \n",
      "A value is trying to be set on a copy of a slice from a DataFrame\n",
      "\n",
      "See the caveats in the documentation: http://pandas.pydata.org/pandas-docs/stable/indexing.html#indexing-view-versus-copy\n"
     ]
    }
   ],
   "source": [
    "from sklearn.decomposition import PCA\n",
    "from sklearn.ensemble import RandomForestClassifier\n",
    "from sklearn.neighbors import KNeighborsClassifier\n",
    "from sklearn import cross_validation\n",
    "from sklearn.cross_validation import cross_val_score\n",
    "from sklearn import svm\n",
    "\n",
    "# Create the training data\n",
    "pca = PCA(n_components=50)\n",
    "X = pca.fit_transform(data)\n",
    "df = DataFrame(X)\n",
    "response = 'label'\n",
    "df[response] = labels\n",
    "\n",
    "# Divide data to test and train\n",
    "mask = np.random.rand(len(df)) < 0.85\n",
    "train_dat = df[mask]\n",
    "test_dat = df[~mask]\n",
    "y_test = np.array(test_dat[response])\n",
    "test_dat.drop(response, axis=1, inplace=True)\n"
   ]
  },
  {
   "cell_type": "code",
   "execution_count": 9,
   "metadata": {
    "collapsed": false
   },
   "outputs": [
    {
     "data": {
      "text/plain": [
       "0.42517605633802819"
      ]
     },
     "execution_count": 9,
     "metadata": {},
     "output_type": "execute_result"
    }
   ],
   "source": [
    "# Run random forest on the train model and pick the number\n",
    "# of trees used for the model\n",
    "rf = RandomForestClassifier(n_estimators=1000, oob_score=True)\n",
    "rf.fit(train_dat.drop(response, axis=1), train_dat[response])\n",
    "prediction = rf.predict(test_dat)\n",
    "\n",
    "# Check error percentage on the test set and tune parameters\n",
    "mean(prediction != y_test)"
   ]
  },
  {
   "cell_type": "code",
   "execution_count": 124,
   "metadata": {
    "collapsed": false
   },
   "outputs": [
    {
     "data": {
      "text/plain": [
       "array(['N'], dtype=object)"
      ]
     },
     "execution_count": 124,
     "metadata": {},
     "output_type": "execute_result"
    }
   ],
   "source": [
    "# Lets test this on a sample image\n",
    "path = '/home/reza/Downloads/test.jpg'\n",
    "img_file = Image.open(path)\n",
    "img_path = img_file.filename\n",
    "img_file = img_file.convert('L')\n",
    "        \n",
    "# Open in the image file\n",
    "img_file = img_file.convert(\"L\").filter(ImageFilter.GaussianBlur(radius = 2))\n",
    "curr_img = img(img_file=img_file, img_path=img_path)\n",
    "        \n",
    "# Take a vectore representation of the image\n",
    "curr_img.flatten_image()\n",
    "test_point = pca.transform(curr_img.img_vector)\n",
    "\n",
    "# Predict the label for the test point\n",
    "rf.predict(test_point)"
   ]
  },
  {
   "cell_type": "code",
   "execution_count": 55,
   "metadata": {
    "collapsed": false
   },
   "outputs": [
    {
     "data": {
      "image/png": "[encoded data removed]",
      "text/plain": [
       "<PIL.Image.Image image mode=L size=225x225 at 0x7FB70BB56F10>"
      ]
     },
     "execution_count": 55,
     "metadata": {},
     "output_type": "execute_result"
    }
   ],
   "source": [
    "from PIL import ImageFilter\n",
    "img_file.filter(ImageFilter.SHARPEN)\n"
   ]
  },
  {
   "cell_type": "markdown",
   "metadata": {},
   "source": [
    "## Using a different Dataset for Handwriting Recognition"
   ]
  },
  {
   "cell_type": "code",
   "execution_count": 2,
   "metadata": {
    "collapsed": false,
    "scrolled": true
   },
   "outputs": [],
   "source": [
    "# Read the symbols in the data\n",
    "path = '/home/reza/MachineLearning/Hand-Writing-Recognition/data/coordinate/'\n",
    "symbols = pd.read_csv(path+'symbols.csv', error_bad_lines=False, delimiter=';')\n",
    "\n",
    "# Create a mapping from the symbol to the character it represents\n",
    "id_to_char = dict(zip(symbols.symbol_id.astype(str), symbols.latex))"
   ]
  },
  {
   "cell_type": "code",
   "execution_count": 484,
   "metadata": {
    "collapsed": false
   },
   "outputs": [],
   "source": [
    "import csv\n",
    "import json\n",
    "\n",
    "# Create a dictionary with keys alphanumeric characters\n",
    "# and values strokes. Each stroc consists of a set of \n",
    "# (x,y,t) coordinates\n",
    "recordings = []\n",
    "with open(path+'train-data.csv', 'rb') as csvfile:\n",
    "    data = csv.reader(csvfile, delimiter=';')\n",
    "    next(data, None)\n",
    "    for row in data:\n",
    "        symbol = id_to_char[row[0]]\n",
    "        if symbol.isalnum():\n",
    "            record = dict()\n",
    "            record[symbol] = json.loads(row[2])\n",
    "            recordings.append(record)"
   ]
  },
  {
   "cell_type": "code",
   "execution_count": 413,
   "metadata": {
    "collapsed": false
   },
   "outputs": [],
   "source": [
    "# Find the distribution distance between strokes\n",
    "def find_dist(x,y):\n",
    "    x = np.array([x['x'], x['y']])\n",
    "    y = np.array([y['x'], y['y']])\n",
    "    return sqrt(sum((x-y)**2))\n",
    "    \n",
    "stroke_dist = []\n",
    "for record in recordings:\n",
    "    strokes = record[record.keys()[0]]\n",
    "    for i in range(1, len(strokes)):\n",
    "        # current point\n",
    "        s_curr = strokes[i][0]\n",
    "        \n",
    "        # previous point\n",
    "        s_prev = strokes[i-1][-1]\n",
    "        stroke_dist.append(find_dist(s_curr, s_prev))\n"
   ]
  },
  {
   "cell_type": "code",
   "execution_count": 222,
   "metadata": {
    "collapsed": false
   },
   "outputs": [
    {
     "data": {
      "text/plain": [
       "(array([ 203.,  210.,  385.,  393.,  352.,  193.,   86.,   37.,   10.,    5.]),\n",
       " array([   0.        ,   36.49657492,   72.99314984,  109.48972476,\n",
       "         145.98629967,  182.48287459,  218.97944951,  255.47602443,\n",
       "         291.97259935,  328.46917427,  364.96574918]),\n",
       " <a list of 10 Patch objects>)"
      ]
     },
     "execution_count": 222,
     "metadata": {},
     "output_type": "execute_result"
    },
    {
     "data": {
      "image/png": "[encoded data removed]",
      "text/plain": [
       "<matplotlib.figure.Figure at 0x7f2cc84a11d0>"
      ]
     },
     "metadata": {},
     "output_type": "display_data"
    }
   ],
   "source": [
    "# Plot the distribution of distance between strokes\n",
    "plt.xlabel('Distance Between Strokes')\n",
    "plt.hist(stroke_dist)"
   ]
  },
  {
   "cell_type": "code",
   "execution_count": 223,
   "metadata": {
    "collapsed": false
   },
   "outputs": [
    {
     "name": "stdout",
     "output_type": "stream",
     "text": [
      "There are %4.64247598719 of the strokes with distance less than 10\n"
     ]
    }
   ],
   "source": [
    "# Find some stats on distance between strokes\n",
    "threshold = 10\n",
    "percent_low_dist = len(filter(lambda x: x < threshold, stroke_dist))/float(len(stroke_dist)) * 100\n",
    "print 'There are %{} of the strokes with distance less than {}'.format(percent_low_dist, threshold)"
   ]
  },
  {
   "cell_type": "code",
   "execution_count": 437,
   "metadata": {
    "collapsed": true
   },
   "outputs": [],
   "source": [
    "# Find the distribution of speed betweeen consecutive points\n",
    "points_speed = []\n",
    "for record in recordings:\n",
    "    strokes = record[record.keys()[0]]\n",
    "    for stroke in strokes:\n",
    "        for i in range(1, len(stroke)):\n",
    "            speed = find_dist(stroke[i], stroke[i-1])/float(stroke[i]['time'])\n",
    "            points_speed.append(speed)\n",
    "            "
   ]
  },
  {
   "cell_type": "code",
   "execution_count": 445,
   "metadata": {
    "collapsed": false
   },
   "outputs": [
    {
     "data": {
      "text/plain": [
       "(array([  3.23520000e+05,   1.10000000e+01,   1.00000000e+00,\n",
       "          0.00000000e+00,   0.00000000e+00,   0.00000000e+00,\n",
       "          0.00000000e+00,   0.00000000e+00,   0.00000000e+00]),\n",
       " array([0, 1, 2, 3, 4, 5, 6, 7, 8, 9]),\n",
       " <a list of 9 Patch objects>)"
      ]
     },
     "execution_count": 445,
     "metadata": {},
     "output_type": "execute_result"
    },
    {
     "data": {
      "image/png": "[encoded data removed]",
      "text/plain": [
       "<matplotlib.figure.Figure at 0x7f2cb6e38dd0>"
      ]
     },
     "metadata": {},
     "output_type": "display_data"
    }
   ],
   "source": [
    "# Plot the distribution of the speed between consecutive points\n",
    "plt.hist(points_speed, bins=range(10))"
   ]
  },
  {
   "cell_type": "code",
   "execution_count": 464,
   "metadata": {
    "collapsed": false
   },
   "outputs": [
    {
     "name": "stdout",
     "output_type": "stream",
     "text": [
      "There are %0.0 of the control points with distance greater than 3\n"
     ]
    }
   ],
   "source": [
    "# Find some stats on distance between strokes\n",
    "threshold = 3\n",
    "percent_low_dist = len(filter(lambda x: x > threshold, points_speed))/float(len(stroke_dist)) * 100\n",
    "print 'There are %{} of the control points with distance greater than {}'.format(percent_low_dist, threshold)"
   ]
  },
  {
   "cell_type": "code",
   "execution_count": 496,
   "metadata": {
    "collapsed": true
   },
   "outputs": [],
   "source": [
    "# Some configuration needed for modifying the drawing record\n",
    "STOROKE_CONNECT_THERESHOLD=10\n",
    "FACTOR_CORRECTION = 0.00001\n",
    "DEHOOK_THRESHOLD = 3\n",
    "DEHOOK_ANGLE_THRESHOLD_BEG = 50\n",
    "DEHOOK_ANGLE_THRESHOLD_END = 50"
   ]
  },
  {
   "cell_type": "code",
   "execution_count": 497,
   "metadata": {
    "collapsed": false,
    "scrolled": false
   },
   "outputs": [
    {
     "data": {
      "image/png": "[encoded data removed]",
      "text/plain": [
       "<matplotlib.figure.Figure at 0x7f2cb51c4410>"
      ]
     },
     "metadata": {},
     "output_type": "display_data"
    },
    {
     "name": "stdout",
     "output_type": "stream",
     "text": [
      "9.86707180554 beg\n",
      "63.4352993563 dehooked end\n",
      "6.01085984818 end\n",
      "11.3116456473 beg\n",
      "179.736109137 dehooked end\n",
      "0.263890862973 end\n",
      "0.128789685233 beg\n",
      "0.280689678906 end\n"
     ]
    },
    {
     "data": {
      "image/png": "[encoded data removed]",
      "text/plain": [
       "<matplotlib.figure.Figure at 0x7f2cb51c4290>"
      ]
     },
     "metadata": {},
     "output_type": "display_data"
    },
    {
     "data": {
      "text/plain": [
       "[[{u'time': 1400928965480, u'x': 560, u'y': 312},\n",
       "  {u'time': 1400928965534, u'x': 559, u'y': 315},\n",
       "  {u'time': 1400928965551, u'x': 552, u'y': 328},\n",
       "  {u'time': 1400928965567, u'x': 543, u'y': 344},\n",
       "  {u'time': 1400928965584, u'x': 530, u'y': 370},\n",
       "  {u'time': 1400928965600, u'x': 513, u'y': 404},\n",
       "  {u'time': 1400928965617, u'x': 495, u'y': 444},\n",
       "  {u'time': 1400928965633, u'x': 482, u'y': 472},\n",
       "  {u'time': 1400928965650, u'x': 472, u'y': 491},\n",
       "  {u'time': 1400928965667, u'x': 467, u'y': 502},\n",
       "  {u'time': 1400928965683, u'x': 464, u'y': 510},\n",
       "  {u'time': 1400928965700, u'x': 462, u'y': 514}],\n",
       " [{u'time': 1400928966493, u'x': 555, u'y': 309},\n",
       "  {u'time': 1400928966518, u'x': 555, u'y': 311},\n",
       "  {u'time': 1400928966534, u'x': 557, u'y': 321},\n",
       "  {u'time': 1400928966551, u'x': 560, u'y': 342},\n",
       "  {u'time': 1400928966568, u'x': 568, u'y': 370},\n",
       "  {u'time': 1400928966584, u'x': 578, u'y': 399},\n",
       "  {u'time': 1400928966601, u'x': 588, u'y': 427},\n",
       "  {u'time': 1400928966618, u'x': 601, u'y': 458},\n",
       "  {u'time': 1400928966634, u'x': 613, u'y': 485},\n",
       "  {u'time': 1400928966651, u'x': 625, u'y': 506},\n",
       "  {u'time': 1400928966668, u'x': 634, u'y': 522},\n",
       "  {u'time': 1400928966684, u'x': 638, u'y': 531},\n",
       "  {u'time': 1400928966701, u'x': 640, u'y': 534},\n",
       "  {u'time': 1400928966718, u'x': 642, u'y': 536},\n",
       "  {u'time': 1400928966734, u'x': 643, u'y': 537}],\n",
       " [{u'time': 1400928967458, u'x': 501, u'y': 438},\n",
       "  {u'time': 1400928967485, u'x': 506, u'y': 438},\n",
       "  {u'time': 1400928967502, u'x': 525, u'y': 438},\n",
       "  {u'time': 1400928967519, u'x': 546, u'y': 442},\n",
       "  {u'time': 1400928967535, u'x': 562, u'y': 445},\n",
       "  {u'time': 1400928967552, u'x': 576, u'y': 447},\n",
       "  {u'time': 1400928967569, u'x': 580, u'y': 447},\n",
       "  {u'time': 1400928967585, u'x': 585, u'y': 447},\n",
       "  {u'time': 1400928967602, u'x': 586, u'y': 447}]]"
      ]
     },
     "execution_count": 497,
     "metadata": {},
     "output_type": "execute_result"
    }
   ],
   "source": [
    "# Create a class drawing_record that has methods to\n",
    "# handle each record (scaling, resampling, feature extraction)\n",
    "class drawing_record():\n",
    "    def  __init__(self, strokes):\n",
    "        self.strokes = strokes\n",
    "    \n",
    "    def remov_None_strokes(self):\n",
    "        \"\"\"\n",
    "        Clean the strokes for None values\n",
    "        \"\"\"\n",
    "        cleaned = []\n",
    "        for stroke in self.strokes:\n",
    "            if stroke is not None:\n",
    "                cleaned.append(stroke)\n",
    "        self.strokes = cleaned\n",
    "    \n",
    "    def wild_filter(self):\n",
    "        \"\"\"\n",
    "        Remove points with high speed (caused by hardware error)\n",
    "        \"\"\"\n",
    "        pass\n",
    "        \n",
    "    def stroke_connect(self):\n",
    "        \"\"\"\n",
    "        Connects two srokes if the distance betwen them\n",
    "        is unusualy close\n",
    "        \"\"\"\n",
    "        # If there is only one stroke do nothing\n",
    "        if len(self.strokes) < 2:\n",
    "            return\n",
    "        \n",
    "        connected = []\n",
    "        i, n = 0, len(self.strokes)\n",
    "        while i < n:\n",
    "            temp = self.strokes[i]\n",
    "            while i+1<n and find_dist(temp[-1], self.strokes[i+1][0]) < STOROKE_CONNECT_THERESHOLD:\n",
    "                print 'connection happened'\n",
    "                temp = temp + self.strokes[i+1]\n",
    "                i+=1\n",
    "            connected.append(temp)\n",
    "            i += 1\n",
    "        self.strokes = connected \n",
    "    \n",
    "    def dehook(self, beg=False, end=False):\n",
    "        \"\"\"\n",
    "        Removes hooks at the begining or end of a stroke\n",
    "        \"\"\"\n",
    "        if not beg and not end:\n",
    "            print 'Dehooking was not done, set beg or end to True'\n",
    "            return\n",
    "        # Given three points p0,p1,p2 in order, it calculates\n",
    "        # the angle between p_10 and p_21\n",
    "        def calculate_angle(points):\n",
    "            # Return euclidean distance between two points\n",
    "            def diff(v,w):\n",
    "                v = np.array([v['x'], v['y']])\n",
    "                w = np.array([w['x'], w['y']])\n",
    "                return v-w\n",
    "            p_10 = diff(points[0], points[1])\n",
    "            p_21 = diff(points[1], points[2])\n",
    "            # Find the cosine of the angle\n",
    "            cos_angle = float(p_10.dot(p_21))/((sqrt(p_10.dot(p_10)) + \n",
    "                                                FACTOR_CORRECTION) * \n",
    "                                               (sqrt(p_21.dot(p_21)) +\n",
    "                                                FACTOR_CORRECTION))\n",
    "            angle = arccos(cos_angle) * 180/pi\n",
    "            return angle\n",
    "        \n",
    "        # Dehooks at the begining\n",
    "        def dehook_stroke_beg(index):\n",
    "            if len(self.strokes[i]) < DEHOOK_THRESHOLD:\n",
    "                print 'There are not enough points in the stroke to dehook'\n",
    "                return\n",
    "            three_points = self.strokes[i][index:index+3]\n",
    "            if calculate_angle(three_points) < DEHOOK_ANGLE_THRESHOLD_BEG:\n",
    "                print calculate_angle(three_points), 'beg'\n",
    "                return self.strokes[i][index:]\n",
    "            else:\n",
    "                print calculate_angle(three_points), 'dehooked', 'beg'\n",
    "                return dehook_stroke_beg(index+1)\n",
    "\n",
    "        # Dehooks at the end\n",
    "        def dehook_stroke_end(index):\n",
    "            if len(self.strokes[i]) < DEHOOK_THRESHOLD:\n",
    "                print 'There are not enough points in the stroke to dehook'\n",
    "                return\n",
    "            three_points = self.strokes[i][index-2:index] + [self.strokes[i][index]]\n",
    "            if calculate_angle(three_points) < DEHOOK_ANGLE_THRESHOLD_END:\n",
    "                print calculate_angle(three_points), 'end'\n",
    "                return self.strokes[i][:index] + [self.strokes[i][index]]\n",
    "            else:\n",
    "                print calculate_angle(three_points), 'dehooked', 'end'\n",
    "                return dehook_stroke_end(index-1)\n",
    "        \n",
    "        for i, stroke in enumerate(self.strokes):\n",
    "            if beg:\n",
    "                dehook_beg = dehook_stroke_beg(0)\n",
    "                if dehook_beg is not None:\n",
    "                    self.strokes[i] = dehook_beg\n",
    "            if end:\n",
    "                dehook_end = dehook_stroke_end(-1)\n",
    "                if dehook_end is not None:\n",
    "                    self.strokes[i] = dehook_end\n",
    "    \n",
    "    def find_bounding_box(self):\n",
    "        \"\"\"\n",
    "        Find the bounding box of the drawing character\n",
    "        \"\"\"\n",
    "        mint, minx, miny = [float('inf')]*3\n",
    "        maxx, maxy, maxt = [float('-inf')]*3\n",
    "        for stroke in self.strokes:\n",
    "            for point in stroke:\n",
    "                if point['time'] < mint:\n",
    "                    mint = point['time']\n",
    "                if point['x'] < minx:\n",
    "                    minx = point['x']\n",
    "                if point['y'] < miny:\n",
    "                    miny = point['y']\n",
    "                if point['x'] > maxx:\n",
    "                    maxx = point['x']\n",
    "                if point['y'] > maxy:\n",
    "                    maxy = point['y']\n",
    "        return (mint, minx, maxx, miny, maxy)\n",
    "\n",
    "    def scale_shift(self):\n",
    "        \"\"\"\n",
    "        Scale and shif the coordinates of the drawing.\n",
    "        Only the smaller dimension gets centered\n",
    "        \"\"\"\n",
    "        mint, minx, maxx, miny, maxy = self.find_bounding_box()\n",
    "        for stroke in self.strokes:\n",
    "            for point in stroke:\n",
    "                width = (maxx-minx) + FACTOR_CORRECTION\n",
    "                height = (maxy-miny) + FACTOR_CORRECTION\n",
    "                fx = 1.0/width\n",
    "                fy = 1.0/height\n",
    "                f = min(fx,fy)\n",
    "                add = min(width, height)/2.0 * f\n",
    "                addx, addy = 0, 0\n",
    "                if f == fx:\n",
    "                    addx = add\n",
    "                else:\n",
    "                    addy = add\n",
    "                point['x'] = (point['x'] - minx) * f - addx\n",
    "                point['y'] = (point['y'] - miny) * f - addy\n",
    "                point['time'] = point['time'] - mint\n",
    "\n",
    "    def resample(self):\n",
    "        pass\n",
    "    def plot_drawing(self):\n",
    "        x_val = []\n",
    "        y_val = []\n",
    "        for stroke in self.strokes:\n",
    "            for point in stroke:\n",
    "                x_val.append(point['x'])\n",
    "                y_val.append(-point['y'])\n",
    "        plt.scatter(x_val, y_val, s=200, alpha=0.4)\n",
    "        plt.show(block=False)\n",
    "\n",
    "dr = drawing_record(recordings[4]['A'])\n",
    "dr.remov_None_strokes()\n",
    "dr.plot_drawing()\n",
    "# print dr.strokes[0][-1]\n",
    "# print dr.strokes[1][-1]\n",
    "# print dr.strokes[2][-1]\n",
    "dr.dehook(beg=True, end=True)\n",
    "dr.stroke_connect()\n",
    "# dr.scale_shift()\n",
    "dr.plot_drawing()\n",
    "dr.strokes"
   ]
  },
  {
   "cell_type": "code",
   "execution_count": 493,
   "metadata": {
    "collapsed": false,
    "scrolled": true
   },
   "outputs": [],
   "source": [
    "# for i in range(200000):\n",
    "#     for key, _ in recordings[i].items():\n",
    "#         if len(recordings[i][key]) == 3:\n",
    "#             print i\n",
    "#             break"
   ]
  },
  {
   "cell_type": "code",
   "execution_count": 494,
   "metadata": {
    "collapsed": false,
    "scrolled": true
   },
   "outputs": [],
   "source": [
    "# for j, record in enumerate(recordings):\n",
    "#     strokes = record[record.keys()[0]]\n",
    "#     for i in range(1, len(strokes)):\n",
    "#         # current point\n",
    "#         s_curr = strokes[i][0]\n",
    "        \n",
    "#         # previous point\n",
    "#         s_prev = strokes[i-1][-1]\n",
    "#         if find_dist(s_curr, s_prev) < 10:\n",
    "#             print j\n",
    "#             break\n"
   ]
  },
  {
   "cell_type": "code",
   "execution_count": null,
   "metadata": {
    "collapsed": false
   },
   "outputs": [],
   "source": []
  },
  {
   "cell_type": "code",
   "execution_count": null,
   "metadata": {
    "collapsed": false
   },
   "outputs": [],
   "source": []
  },
  {
   "cell_type": "code",
   "execution_count": null,
   "metadata": {
    "collapsed": true
   },
   "outputs": [],
   "source": []
  },
  {
   "cell_type": "code",
   "execution_count": null,
   "metadata": {
    "collapsed": true
   },
   "outputs": [],
   "source": []
  }
 ],
 "metadata": {
  "kernelspec": {
   "display_name": "Python 2",
   "language": "python",
   "name": "python2"
  },
  "language_info": {
   "codemirror_mode": {
    "name": "ipython",
    "version": 2
   },
   "file_extension": ".py",
   "mimetype": "text/x-python",
   "name": "python",
   "nbconvert_exporter": "python",
   "pygments_lexer": "ipython2",
   "version": "2.7.11"
  }
 },
 "nbformat": 4,
 "nbformat_minor": 0
}
