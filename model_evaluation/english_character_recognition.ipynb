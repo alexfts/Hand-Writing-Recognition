{
 "cells": [
  {
   "cell_type": "code",
   "execution_count": 1,
   "metadata": {
    "collapsed": false
   },
   "outputs": [
    {
     "name": "stdout",
     "output_type": "stream",
     "text": [
      "Populating the interactive namespace from numpy and matplotlib\n"
     ]
    }
   ],
   "source": [
    "# imports\n",
    "import pandas as pd\n",
    "from pandas import DataFrame, Series\n",
    "import numpy as np\n",
    "import matplotlib.pyplot as plt\n",
    "import time\n",
    "import seaborn\n",
    "import os\n",
    "import string\n",
    "from PIL import Image\n",
    "\n",
    "%pylab inline"
   ]
  },
  {
   "cell_type": "code",
   "execution_count": 2,
   "metadata": {
    "collapsed": false
   },
   "outputs": [],
   "source": [
    "# Create a mapping from the image files to the character they represents\n",
    "character_list = list(string.digits + string.ascii_uppercase + string.ascii_lowercase)\n",
    "nums = range(1,len(character_list)+1)\n",
    "file_to_character = dict(zip(nums, character_list))"
   ]
  },
  {
   "cell_type": "code",
   "execution_count": 10,
   "metadata": {
    "collapsed": false
   },
   "outputs": [],
   "source": [
    "# Take the median size of the images as the standard_size for \n",
    "# normalization of the images\n",
    "path = '/home/reza/MachineLearning/Hand-Writing-Recognition/data/English/img/'\n",
    "img_sizes = []\n",
    "for folder in os.listdir(path):\n",
    "    for img_file in os.listdir(path+'/'+folder+'/'):\n",
    "        img = Image.open(path+'/'+folder+'/'+img_file)\n",
    "        img_sizes.append(img.size)\n",
    "\n",
    "# resize function only takes int values\n",
    "STANDARD_SIZE = map(int, median(img_sizes, axis=0))"
   ]
  },
  {
   "cell_type": "code",
   "execution_count": 6,
   "metadata": {
    "collapsed": false
   },
   "outputs": [],
   "source": [
    "# Create an image class that allows us to represent the image in matrix or vector from\n",
    "class img():\n",
    "    def __init__(self, img_file=None, img_path=None):\n",
    "        if img_file is None or img_path is None:\n",
    "            raise Exception('Must give an image file as input along'\n",
    "                            'with its file name')\n",
    "        self.img_matrix = None\n",
    "        self.img_vector = None\n",
    "        self.img_label = None\n",
    "        self.img_file = img_file\n",
    "        self.img_path = img_path\n",
    "        \n",
    "    def img_to_matrix(self):\n",
    "        \"\"\"\n",
    "        Extract a matrix representation of the image\n",
    "        \"\"\"\n",
    "        # Resize the image to a standard size\n",
    "        img_resized = self.img_file.resize(STANDARD_SIZE)\n",
    "        self.img_matrix = array(img_resized)\n",
    "\n",
    "    def flatten_image(self):\n",
    "        \"\"\"\n",
    "        Flatten the matrix representation of the image. If the\n",
    "        matrix has shape (m, n) then the vector representation\n",
    "        has shape (1, m * n)\n",
    "        \"\"\"\n",
    "        if self.img_matrix is None:\n",
    "            self.img_to_matrix()\n",
    "        s = self.img_matrix.shape[0] * self.img_matrix.shape[1]\n",
    "        self.img_vector = self.img_matrix.reshape(1, s)[0]\n",
    "\n",
    "    def get_img_label(self):\n",
    "        \"\"\"\"\n",
    "        Sets the label for the image file, i.e, the English\n",
    "        character the image is showing\n",
    "        \"\"\"\n",
    "        file_name = self.img_path.split('/')[-1][3:6]\n",
    "        self.img_label = file_to_character[int(file_name)]\n",
    "        \n",
    "# img1 = img(img_file=img_file, img_path='blahblah/im-001')\n",
    "# img1.img_label\n",
    "# img1.img_to_matrix()\n",
    "# print img1.img_matrix\n",
    "# img1.flatten_image()\n",
    "# img1.img_vector\n",
    "# img1.get_img_label()\n",
    "# img1.img_label\n"
   ]
  },
  {
   "cell_type": "code",
   "execution_count": 7,
   "metadata": {
    "collapsed": false
   },
   "outputs": [],
   "source": [
    "# Gather features of the image for building the training data\n",
    "path = '/home/reza/MachineLearning/Hand-Writing-Recognition/data/English/img/'\n",
    "data = []\n",
    "labels = []\n",
    "for folder in os.listdir(path):\n",
    "    for img_file in os.listdir(path+'/'+folder+'/'):\n",
    "        img_file = Image.open(path+'/'+folder+'/'+img_file)\n",
    "        img_path = img_file.filename\n",
    "        img_file = img_file.convert('L')\n",
    "        \n",
    "        # Open in the image file\n",
    "#         img_file = img_file.convert(\"L\").filter(ImageFilter.GaussianBlur(radius = 2))\n",
    "        curr_img = img(img_file=img_file, img_path=img_path)\n",
    "        \n",
    "        # Take a vectore representation of the image\n",
    "        curr_img.flatten_image()\n",
    "        data.append(curr_img.img_vector)\n",
    "        \n",
    "        # add the label\n",
    "        curr_img.get_img_label()\n",
    "        labels.append(curr_img.img_label)\n",
    "\n",
    "data = np.array(data)"
   ]
  },
  {
   "cell_type": "code",
   "execution_count": 8,
   "metadata": {
    "collapsed": false
   },
   "outputs": [
    {
     "name": "stderr",
     "output_type": "stream",
     "text": [
      "/home/reza/anaconda2/lib/python2.7/site-packages/ipykernel/__main__.py:20: SettingWithCopyWarning: \n",
      "A value is trying to be set on a copy of a slice from a DataFrame\n",
      "\n",
      "See the caveats in the documentation: http://pandas.pydata.org/pandas-docs/stable/indexing.html#indexing-view-versus-copy\n"
     ]
    }
   ],
   "source": [
    "from sklearn.decomposition import PCA\n",
    "from sklearn.ensemble import RandomForestClassifier\n",
    "from sklearn.neighbors import KNeighborsClassifier\n",
    "from sklearn import cross_validation\n",
    "from sklearn.cross_validation import cross_val_score\n",
    "from sklearn import svm\n",
    "\n",
    "# Create the training data\n",
    "pca = PCA(n_components=50)\n",
    "X = pca.fit_transform(data)\n",
    "df = DataFrame(X)\n",
    "response = 'label'\n",
    "df[response] = labels\n",
    "\n",
    "# Divide data to test and train\n",
    "mask = np.random.rand(len(df)) < 0.85\n",
    "train_dat = df[mask]\n",
    "test_dat = df[~mask]\n",
    "y_test = np.array(test_dat[response])\n",
    "test_dat.drop(response, axis=1, inplace=True)\n"
   ]
  },
  {
   "cell_type": "code",
   "execution_count": 9,
   "metadata": {
    "collapsed": false
   },
   "outputs": [
    {
     "data": {
      "text/plain": [
       "0.42517605633802819"
      ]
     },
     "execution_count": 9,
     "metadata": {},
     "output_type": "execute_result"
    }
   ],
   "source": [
    "# Run random forest on the train model and pick the number\n",
    "# of trees used for the model\n",
    "rf = RandomForestClassifier(n_estimators=1000, oob_score=True)\n",
    "rf.fit(train_dat.drop(response, axis=1), train_dat[response])\n",
    "prediction = rf.predict(test_dat)\n",
    "\n",
    "# Check error percentage on the test set and tune parameters\n",
    "mean(prediction != y_test)"
   ]
  },
  {
   "cell_type": "code",
   "execution_count": 124,
   "metadata": {
    "collapsed": false
   },
   "outputs": [
    {
     "data": {
      "text/plain": [
       "array(['N'], dtype=object)"
      ]
     },
     "execution_count": 124,
     "metadata": {},
     "output_type": "execute_result"
    }
   ],
   "source": [
    "# Lets test this on a sample image\n",
    "path = '/home/reza/Downloads/test.jpg'\n",
    "img_file = Image.open(path)\n",
    "img_path = img_file.filename\n",
    "img_file = img_file.convert('L')\n",
    "        \n",
    "# Open in the image file\n",
    "img_file = img_file.convert(\"L\").filter(ImageFilter.GaussianBlur(radius = 2))\n",
    "curr_img = img(img_file=img_file, img_path=img_path)\n",
    "        \n",
    "# Take a vectore representation of the image\n",
    "curr_img.flatten_image()\n",
    "test_point = pca.transform(curr_img.img_vector)\n",
    "\n",
    "# Predict the label for the test point\n",
    "rf.predict(test_point)"
   ]
  },
  {
   "cell_type": "code",
   "execution_count": 55,
   "metadata": {
    "collapsed": false
   },
   "outputs": [
    {
     "data": {
      "image/png": "[encoded data removed]",
      "text/plain": [
       "<PIL.Image.Image image mode=L size=225x225 at 0x7FB70BB56F10>"
      ]
     },
     "execution_count": 55,
     "metadata": {},
     "output_type": "execute_result"
    }
   ],
   "source": [
    "from PIL import ImageFilter\n",
    "img_file.filter(ImageFilter.SHARPEN)\n"
   ]
  },
  {
   "cell_type": "markdown",
   "metadata": {},
   "source": [
    "## Using a different Dataset for Handwriting Recognition"
   ]
  },
  {
   "cell_type": "code",
   "execution_count": 33,
   "metadata": {
    "collapsed": false,
    "scrolled": true
   },
   "outputs": [],
   "source": [
    "# Read the symbols in the data\n",
    "path = '/home/reza/MachineLearning/Hand-Writing-Recognition/data/coordinate/'\n",
    "symbols = pd.read_csv(path+'symbols.csv', error_bad_lines=False, delimiter=';')\n",
    "\n",
    "# Create a mapping from the symbol to the character it represents\n",
    "id_to_char = dict(zip(symbols.symbol_id.astype(str), symbols.latex))"
   ]
  },
  {
   "cell_type": "code",
   "execution_count": 50,
   "metadata": {
    "collapsed": false
   },
   "outputs": [],
   "source": [
    "import csv\n",
    "import json\n",
    "\n",
    "# Create a dictionary with keys alphanumeric characters\n",
    "# and values strokes. Each stroc consists of a set of \n",
    "# (x,y,t) coordinates\n",
    "recordings = dict()\n",
    "with open(path+'train-data.csv', 'rb') as csvfile:\n",
    "    data = csv.reader(csvfile, delimiter=';')\n",
    "    next(data, None)\n",
    "    for row in data:\n",
    "        symbol = id_to_char[row[0]]\n",
    "        if symbol.isalnum():\n",
    "            recordings[symbol] = json.loads(row[2])"
   ]
  },
  {
   "cell_type": "code",
   "execution_count": 39,
   "metadata": {
    "collapsed": true
   },
   "outputs": [],
   "source": [
    "# Some configuration needed for modifying the drawing record\n",
    "FACTOR_CORRECTION = 0.00001\n",
    "DEHOOK_THRESHOLD = 3\n",
    "DEHOOK_ANGLE_THRESHOLD = 90"
   ]
  },
  {
   "cell_type": "code",
   "execution_count": 51,
   "metadata": {
    "collapsed": false
   },
   "outputs": [
    {
     "name": "stdout",
     "output_type": "stream",
     "text": [
      "0.0\n",
      "0.0\n",
      "90.0\n",
      "0.0\n",
      "0.0\n"
     ]
    },
    {
     "data": {
      "text/plain": [
       "[[{u'time': 1418737792540, u'x': 582, u'y': 562},\n",
       "  {u'time': 1418737792546, u'x': 582, u'y': 563},\n",
       "  {u'time': 1418737792554, u'x': 582, u'y': 567},\n",
       "  {u'time': 1418737792562, u'x': 580, u'y': 572},\n",
       "  {u'time': 1418737792570, u'x': 580, u'y': 579},\n",
       "  {u'time': 1418737792578, u'x': 580, u'y': 586},\n",
       "  {u'time': 1418737792586, u'x': 580, u'y': 593},\n",
       "  {u'time': 1418737792592, u'x': 580, u'y': 600},\n",
       "  {u'time': 1418737792600, u'x': 578, u'y': 607},\n",
       "  {u'time': 1418737792608, u'x': 576, u'y': 616},\n",
       "  {u'time': 1418737792616, u'x': 576, u'y': 625},\n",
       "  {u'time': 1418737792624, u'x': 576, u'y': 634},\n",
       "  {u'time': 1418737792632, u'x': 576, u'y': 643},\n",
       "  {u'time': 1418737792640, u'x': 574, u'y': 652},\n",
       "  {u'time': 1418737792648, u'x': 574, u'y': 661},\n",
       "  {u'time': 1418737792656, u'x': 574, u'y': 670},\n",
       "  {u'time': 1418737792664, u'x': 574, u'y': 679},\n",
       "  {u'time': 1418737792670, u'x': 572, u'y': 688},\n",
       "  {u'time': 1418737792678, u'x': 572, u'y': 697},\n",
       "  {u'time': 1418737792686, u'x': 570, u'y': 704},\n",
       "  {u'time': 1418737792694, u'x': 570, u'y': 711},\n",
       "  {u'time': 1418737792705, u'x': 570, u'y': 718},\n",
       "  {u'time': 1418737792710, u'x': 568, u'y': 723},\n",
       "  {u'time': 1418737792718, u'x': 568, u'y': 728},\n",
       "  {u'time': 1418737792726, u'x': 568, u'y': 732},\n",
       "  {u'time': 1418737792734, u'x': 568, u'y': 734},\n",
       "  {u'time': 1418737792742, u'x': 568, u'y': 737},\n",
       "  {u'time': 1418737792750, u'x': 568, u'y': 738},\n",
       "  {u'time': 1418737792758, u'x': 568, u'y': 740}],\n",
       " None,\n",
       " [{u'time': 1418737794360, u'x': 603, u'y': 571},\n",
       "  {u'time': 1418737794406, u'x': 603, u'y': 575},\n",
       "  {u'time': 1418737794418, u'x': 603, u'y': 582},\n",
       "  {u'time': 1418737794419, u'x': 601, u'y': 591},\n",
       "  {u'time': 1418737794428, u'x': 599, u'y': 600},\n",
       "  {u'time': 1418737794435, u'x': 599, u'y': 609},\n",
       "  {u'time': 1418737794443, u'x': 597, u'y': 620},\n",
       "  {u'time': 1418737794461, u'x': 595, u'y': 638},\n",
       "  {u'time': 1418737794468, u'x': 595, u'y': 647},\n",
       "  {u'time': 1418737794476, u'x': 595, u'y': 656},\n",
       "  {u'time': 1418737794484, u'x': 595, u'y': 665},\n",
       "  {u'time': 1418737794492, u'x': 595, u'y': 674},\n",
       "  {u'time': 1418737794504, u'x': 595, u'y': 681},\n",
       "  {u'time': 1418737794506, u'x': 593, u'y': 688},\n",
       "  {u'time': 1418737794514, u'x': 593, u'y': 695},\n",
       "  {u'time': 1418737794522, u'x': 593, u'y': 702},\n",
       "  {u'time': 1418737794530, u'x': 593, u'y': 709},\n",
       "  {u'time': 1418737794547, u'x': 591, u'y': 719},\n",
       "  {u'time': 1418737794554, u'x': 591, u'y': 724},\n",
       "  {u'time': 1418737794562, u'x': 591, u'y': 729},\n",
       "  {u'time': 1418737794570, u'x': 591, u'y': 734},\n",
       "  {u'time': 1418737794578, u'x': 591, u'y': 739},\n",
       "  {u'time': 1418737794590, u'x': 589, u'y': 746},\n",
       "  {u'time': 1418737794592, u'x': 589, u'y': 753},\n",
       "  {u'time': 1418737794600, u'x': 589, u'y': 758},\n",
       "  {u'time': 1418737794608, u'x': 589, u'y': 763},\n",
       "  {u'time': 1418737794616, u'x': 589, u'y': 765},\n",
       "  {u'time': 1418737794633, u'x': 589, u'y': 769},\n",
       "  {u'time': 1418737794640, u'x': 589, u'y': 771},\n",
       "  {u'time': 1418737794650, u'x': 589, u'y': 772},\n",
       "  {u'time': 1418737794664, u'x': 589, u'y': 773}],\n",
       " [{u'time': 1418737795385, u'x': 587, u'y': 575},\n",
       "  {u'time': 1418737795421, u'x': 587, u'y': 577},\n",
       "  {u'time': 1418737795428, u'x': 587, u'y': 579},\n",
       "  {u'time': 1418737795436, u'x': 587, u'y': 582},\n",
       "  {u'time': 1418737795444, u'x': 587, u'y': 585},\n",
       "  {u'time': 1418737795452, u'x': 587, u'y': 590},\n",
       "  {u'time': 1418737795460, u'x': 587, u'y': 596},\n",
       "  {u'time': 1418737795468, u'x': 587, u'y': 603},\n",
       "  {u'time': 1418737795476, u'x': 587, u'y': 609},\n",
       "  {u'time': 1418737795484, u'x': 585, u'y': 616},\n",
       "  {u'time': 1418737795492, u'x': 585, u'y': 623},\n",
       "  {u'time': 1418737795500, u'x': 585, u'y': 630},\n",
       "  {u'time': 1418737795506, u'x': 585, u'y': 637},\n",
       "  {u'time': 1418737795514, u'x': 585, u'y': 644},\n",
       "  {u'time': 1418737795523, u'x': 583, u'y': 651},\n",
       "  {u'time': 1418737795530, u'x': 583, u'y': 658},\n",
       "  {u'time': 1418737795539, u'x': 583, u'y': 665},\n",
       "  {u'time': 1418737795546, u'x': 583, u'y': 672},\n",
       "  {u'time': 1418737795554, u'x': 583, u'y': 679},\n",
       "  {u'time': 1418737795562, u'x': 583, u'y': 688},\n",
       "  {u'time': 1418737795570, u'x': 583, u'y': 693},\n",
       "  {u'time': 1418737795576, u'x': 581, u'y': 698},\n",
       "  {u'time': 1418737795584, u'x': 581, u'y': 703},\n",
       "  {u'time': 1418737795592, u'x': 581, u'y': 708},\n",
       "  {u'time': 1418737795600, u'x': 581, u'y': 713},\n",
       "  {u'time': 1418737795608, u'x': 581, u'y': 718},\n",
       "  {u'time': 1418737795616, u'x': 581, u'y': 723},\n",
       "  {u'time': 1418737795624, u'x': 581, u'y': 725},\n",
       "  {u'time': 1418737795632, u'x': 581, u'y': 727},\n",
       "  {u'time': 1418737795640, u'x': 579, u'y': 732},\n",
       "  {u'time': 1418737795648, u'x': 579, u'y': 737},\n",
       "  {u'time': 1418737795656, u'x': 579, u'y': 741},\n",
       "  {u'time': 1418737795662, u'x': 579, u'y': 743},\n",
       "  {u'time': 1418737795670, u'x': 579, u'y': 746},\n",
       "  {u'time': 1418737795678, u'x': 579, u'y': 750},\n",
       "  {u'time': 1418737795686, u'x': 579, u'y': 755},\n",
       "  {u'time': 1418737795694, u'x': 579, u'y': 759},\n",
       "  {u'time': 1418737795702, u'x': 577, u'y': 763},\n",
       "  {u'time': 1418737795710, u'x': 577, u'y': 767},\n",
       "  {u'time': 1418737795718, u'x': 577, u'y': 769},\n",
       "  {u'time': 1418737795726, u'x': 577, u'y': 771},\n",
       "  {u'time': 1418737795734, u'x': 577, u'y': 772},\n",
       "  {u'time': 1418737795742, u'x': 577, u'y': 775},\n",
       "  {u'time': 1418737795750, u'x': 577, u'y': 776},\n",
       "  {u'time': 1418737795764, u'x': 577, u'y': 778},\n",
       "  {u'time': 1418737795858, u'x': 577, u'y': 776},\n",
       "  {u'time': 1418737795866, u'x': 577, u'y': 770},\n",
       "  {u'time': 1418737795874, u'x': 577, u'y': 761},\n",
       "  {u'time': 1418737795882, u'x': 577, u'y': 752},\n",
       "  {u'time': 1418737795890, u'x': 577, u'y': 741},\n",
       "  {u'time': 1418737795898, u'x': 579, u'y': 730},\n",
       "  {u'time': 1418737795906, u'x': 579, u'y': 719},\n",
       "  {u'time': 1418737795912, u'x': 579, u'y': 708},\n",
       "  {u'time': 1418737795920, u'x': 581, u'y': 699},\n",
       "  {u'time': 1418737795928, u'x': 581, u'y': 688},\n",
       "  {u'time': 1418737795936, u'x': 581, u'y': 679},\n",
       "  {u'time': 1418737795944, u'x': 581, u'y': 672},\n",
       "  {u'time': 1418737795952, u'x': 583, u'y': 665},\n",
       "  {u'time': 1418737795960, u'x': 583, u'y': 660},\n",
       "  {u'time': 1418737795968, u'x': 583, u'y': 655},\n",
       "  {u'time': 1418737795977, u'x': 583, u'y': 653},\n",
       "  {u'time': 1418737795984, u'x': 583, u'y': 651},\n",
       "  {u'time': 1418737795992, u'x': 583, u'y': 650},\n",
       "  {u'time': 1418737795998, u'x': 583, u'y': 648},\n",
       "  {u'time': 1418737796006, u'x': 583, u'y': 647},\n",
       "  {u'time': 1418737796014, u'x': 583, u'y': 645},\n",
       "  {u'time': 1418737796022, u'x': 583, u'y': 644},\n",
       "  {u'time': 1418737796030, u'x': 583, u'y': 642},\n",
       "  {u'time': 1418737796038, u'x': 583, u'y': 641},\n",
       "  {u'time': 1418737796046, u'x': 583, u'y': 639},\n",
       "  {u'time': 1418737796054, u'x': 584, u'y': 637},\n",
       "  {u'time': 1418737796070, u'x': 584, u'y': 635},\n",
       "  {u'time': 1418737796086, u'x': 584, u'y': 634},\n",
       "  {u'time': 1418737796092, u'x': 584, u'y': 633},\n",
       "  {u'time': 1418737796108, u'x': 584, u'y': 632},\n",
       "  {u'time': 1418737796116, u'x': 584, u'y': 631},\n",
       "  {u'time': 1418737796124, u'x': 584, u'y': 630},\n",
       "  {u'time': 1418737796132, u'x': 584, u'y': 629},\n",
       "  {u'time': 1418737796141, u'x': 584, u'y': 628},\n",
       "  {u'time': 1418737796148, u'x': 584, u'y': 626},\n",
       "  {u'time': 1418737796156, u'x': 583, u'y': 626},\n",
       "  {u'time': 1418737796243, u'x': 583, u'y': 625},\n",
       "  {u'time': 1418737796281, u'x': 583, u'y': 628},\n",
       "  {u'time': 1418737796288, u'x': 583, u'y': 633},\n",
       "  {u'time': 1418737796299, u'x': 581, u'y': 638},\n",
       "  {u'time': 1418737796304, u'x': 581, u'y': 643},\n",
       "  {u'time': 1418737796312, u'x': 579, u'y': 648},\n",
       "  {u'time': 1418737796320, u'x': 579, u'y': 652},\n",
       "  {u'time': 1418737796329, u'x': 579, u'y': 657},\n",
       "  {u'time': 1418737796334, u'x': 579, u'y': 662},\n",
       "  {u'time': 1418737796342, u'x': 579, u'y': 667},\n",
       "  {u'time': 1418737796352, u'x': 579, u'y': 671},\n",
       "  {u'time': 1418737796358, u'x': 579, u'y': 676},\n",
       "  {u'time': 1418737796366, u'x': 579, u'y': 678},\n",
       "  {u'time': 1418737796374, u'x': 579, u'y': 680},\n",
       "  {u'time': 1418737796384, u'x': 579, u'y': 683},\n",
       "  {u'time': 1418737796390, u'x': 579, u'y': 685},\n",
       "  {u'time': 1418737796398, u'x': 578, u'y': 687},\n",
       "  {u'time': 1418737796406, u'x': 578, u'y': 690},\n",
       "  {u'time': 1418737796415, u'x': 578, u'y': 693},\n",
       "  {u'time': 1418737796420, u'x': 578, u'y': 694}]]"
      ]
     },
     "execution_count": 51,
     "metadata": {},
     "output_type": "execute_result"
    }
   ],
   "source": [
    "# Create a class drawing_record that has methods to\n",
    "# handle each record (scaling, resampling, feature extraction)\n",
    "class drawing_record():\n",
    "    def  __init__(self, record):\n",
    "        self.coordinates = record\n",
    "    def find_bounding_box(self):\n",
    "        \"\"\"\n",
    "        Find the bounding box of the drawing character\n",
    "        \"\"\"\n",
    "        mint, minx, miny = [float('inf')]*3\n",
    "        maxx, maxy, maxt = [float('-inf')]*3\n",
    "        for stroke in self.coordinates:\n",
    "            for point in stroke:\n",
    "                if point['time'] < mint:\n",
    "                    mint = point['time']\n",
    "                if point['x'] < minx:\n",
    "                    minx = point['x']\n",
    "                if point['y'] < miny:\n",
    "                    miny = point['y']\n",
    "                if point['x'] > maxx:\n",
    "                    maxx = point['x']\n",
    "                if point['y'] > maxy:\n",
    "                    maxy = point['y']\n",
    "        return (mint, minx, maxx, miny, maxy)\n",
    "\n",
    "    def dehook(self):\n",
    "        \"\"\"\n",
    "        Removes hooks at the begining or end of a stroke\n",
    "        \"\"\"\n",
    "        # Given three points p0,p1,p2 in order, it calculates\n",
    "        # the angle between p_10 and p_21\n",
    "        def calculate_angle(points):\n",
    "            # Return euclidean distance between two points\n",
    "            def diff(v,w):\n",
    "                v = np.array([v['x'], v['y']])\n",
    "                w = np.array([w['x'], w['y']])\n",
    "                return v-w\n",
    "            p_10 = diff(points[0], points[1])\n",
    "            p_21 = diff(points[1], points[2])\n",
    "            cos_angle = float(p_10.dot(p_21))/(sqrt(p_10.dot(p_10)) * sqrt(p_21.dot(p_21)))\n",
    "            angle = arccos(cos_angle) * 180/pi\n",
    "            return angle\n",
    "        def dehook_stroke(stroke, angle):\n",
    "            new_stroke = stroke[:-1] # everything but the last point\n",
    "            p = stroke[-1] # last point\n",
    "            stroke = stroke[-3:] # last three points\n",
    "            if calculate_angle(stroke) < angle:\n",
    "                new_stroke.append(p)\n",
    "                print calculate_angle(stroke)\n",
    "                return new_stroke\n",
    "            else:\n",
    "                dehook_stroke(new_stroke, angle)\n",
    "                print calculate_angle(stroke)\n",
    "        if len(self.coordinates) < DEHOOK_THRESHOLD:\n",
    "            return\n",
    "        for i, stroke in enumerate(self.coordinates):\n",
    "            self.coordinates[i] = dehook_stroke(stroke, DEHOOK_ANGLE_THRESHOLD)\n",
    "            \n",
    "    \n",
    "    def scale_shift(self):\n",
    "        \"\"\"\n",
    "        Scale and shif the coordinates of the drawing.\n",
    "        Only the smaller dimension gets centered\n",
    "        \"\"\"\n",
    "        mint, minx, maxx, miny, maxy = self.find_bounding_box()\n",
    "        for stroke in self.coordinates:\n",
    "            for point in stroke:\n",
    "                width = (maxx-minx) + FACTOR_CORRECTION\n",
    "                height = (maxy-miny) + FACTOR_CORRECTION\n",
    "                fx = 1.0/width\n",
    "                fy = 1.0/height\n",
    "                f = min(fx,fy)\n",
    "                add = min(width, height)/2.0 * f\n",
    "                addx, addy = 0, 0\n",
    "                if f == fx:\n",
    "                    addx = add\n",
    "                else:\n",
    "                    addy = add\n",
    "                point['x'] = (point['x'] - minx) * f - addx\n",
    "                point['y'] = (point['y'] - miny) * f - addy\n",
    "                point['time'] = point['time'] - mint\n",
    "\n",
    "    def resample(self):\n",
    "        pass\n",
    "    \n",
    "dr = drawing_record(recordings['l'])\n",
    "# print dr.find_bounding_box()\n",
    "# dr.scale_shift()\n",
    "dr.dehook()\n",
    "dr.coordinates"
   ]
  },
  {
   "cell_type": "code",
   "execution_count": 7,
   "metadata": {
    "collapsed": false
   },
   "outputs": [
    {
     "name": "stdout",
     "output_type": "stream",
     "text": [
      "A 3\n",
      "E 3\n",
      "F 3\n",
      "H 3\n",
      "K 3\n",
      "k 3\n",
      "l 4\n"
     ]
    }
   ],
   "source": [
    "for key, val in recordings.items():\n",
    "    if len(val) > 2:\n",
    "        print key, len(val)\n",
    "    "
   ]
  },
  {
   "cell_type": "code",
   "execution_count": null,
   "metadata": {
    "collapsed": false
   },
   "outputs": [],
   "source": []
  },
  {
   "cell_type": "code",
   "execution_count": null,
   "metadata": {
    "collapsed": false
   },
   "outputs": [],
   "source": []
  },
  {
   "cell_type": "code",
   "execution_count": null,
   "metadata": {
    "collapsed": true
   },
   "outputs": [],
   "source": []
  },
  {
   "cell_type": "code",
   "execution_count": null,
   "metadata": {
    "collapsed": true
   },
   "outputs": [],
   "source": []
  },
  {
   "cell_type": "code",
   "execution_count": null,
   "metadata": {
    "collapsed": true
   },
   "outputs": [],
   "source": []
  },
  {
   "cell_type": "code",
   "execution_count": null,
   "metadata": {
    "collapsed": true
   },
   "outputs": [],
   "source": []
  }
 ],
 "metadata": {
  "kernelspec": {
   "display_name": "Python 2",
   "language": "python",
   "name": "python2"
  },
  "language_info": {
   "codemirror_mode": {
    "name": "ipython",
    "version": 2
   },
   "file_extension": ".py",
   "mimetype": "text/x-python",
   "name": "python",
   "nbconvert_exporter": "python",
   "pygments_lexer": "ipython2",
   "version": "2.7.11"
  }
 },
 "nbformat": 4,
 "nbformat_minor": 0
}
