{
 "cells": [
  {
   "cell_type": "code",
   "execution_count": 2,
   "metadata": {
    "collapsed": false
   },
   "outputs": [
    {
     "name": "stdout",
     "output_type": "stream",
     "text": [
      "Populating the interactive namespace from numpy and matplotlib\n"
     ]
    }
   ],
   "source": [
    "# imports\n",
    "import pandas as pd\n",
    "from pandas import DataFrame, Series\n",
    "import numpy as np\n",
    "import matplotlib.pyplot as plt\n",
    "import time\n",
    "import seaborn\n",
    "import os\n",
    "import string\n",
    "from PIL import Image\n",
    "\n",
    "%pylab inline"
   ]
  },
  {
   "cell_type": "code",
   "execution_count": 2,
   "metadata": {
    "collapsed": false
   },
   "outputs": [],
   "source": [
    "# Create a mapping from the image files to the character they represents\n",
    "character_list = list(string.digits + string.ascii_uppercase + string.ascii_lowercase)\n",
    "nums = range(1,len(character_list)+1)\n",
    "file_to_character = dict(zip(nums, character_list))"
   ]
  },
  {
   "cell_type": "code",
   "execution_count": 10,
   "metadata": {
    "collapsed": false
   },
   "outputs": [],
   "source": [
    "# Take the median size of the images as the standard_size for \n",
    "# normalization of the images\n",
    "path = '/home/reza/MachineLearning/Hand-Writing-Recognition/data/English/img/'\n",
    "img_sizes = []\n",
    "for folder in os.listdir(path):\n",
    "    for img_file in os.listdir(path+'/'+folder+'/'):\n",
    "        img = Image.open(path+'/'+folder+'/'+img_file)\n",
    "        img_sizes.append(img.size)\n",
    "\n",
    "# resize function only takes int values\n",
    "STANDARD_SIZE = map(int, median(img_sizes, axis=0))"
   ]
  },
  {
   "cell_type": "code",
   "execution_count": 6,
   "metadata": {
    "collapsed": false
   },
   "outputs": [],
   "source": [
    "# Create an image class that allows us to represent the image in matrix or vector from\n",
    "class img():\n",
    "    def __init__(self, img_file=None, img_path=None):\n",
    "        if img_file is None or img_path is None:\n",
    "            raise Exception('Must give an image file as input along'\n",
    "                            'with its file name')\n",
    "        self.img_matrix = None\n",
    "        self.img_vector = None\n",
    "        self.img_label = None\n",
    "        self.img_file = img_file\n",
    "        self.img_path = img_path\n",
    "        \n",
    "    def img_to_matrix(self):\n",
    "        \"\"\"\n",
    "        Extract a matrix representation of the image\n",
    "        \"\"\"\n",
    "        # Resize the image to a standard size\n",
    "        img_resized = self.img_file.resize(STANDARD_SIZE)\n",
    "        self.img_matrix = array(img_resized)\n",
    "\n",
    "    def flatten_image(self):\n",
    "        \"\"\"\n",
    "        Flatten the matrix representation of the image. If the\n",
    "        matrix has shape (m, n) then the vector representation\n",
    "        has shape (1, m * n)\n",
    "        \"\"\"\n",
    "        if self.img_matrix is None:\n",
    "            self.img_to_matrix()\n",
    "        s = self.img_matrix.shape[0] * self.img_matrix.shape[1]\n",
    "        self.img_vector = self.img_matrix.reshape(1, s)[0]\n",
    "\n",
    "    def get_img_label(self):\n",
    "        \"\"\"\"\n",
    "        Sets the label for the image file, i.e, the English\n",
    "        character the image is showing\n",
    "        \"\"\"\n",
    "        file_name = self.img_path.split('/')[-1][3:6]\n",
    "        self.img_label = file_to_character[int(file_name)]\n",
    "        \n",
    "# img1 = img(img_file=img_file, img_path='blahblah/im-001')\n",
    "# img1.img_label\n",
    "# img1.img_to_matrix()\n",
    "# print img1.img_matrix\n",
    "# img1.flatten_image()\n",
    "# img1.img_vector\n",
    "# img1.get_img_label()\n",
    "# img1.img_label\n"
   ]
  },
  {
   "cell_type": "code",
   "execution_count": 7,
   "metadata": {
    "collapsed": false
   },
   "outputs": [],
   "source": [
    "# Gather features of the image for building the training data\n",
    "path = '/home/reza/MachineLearning/Hand-Writing-Recognition/data/English/img/'\n",
    "data = []\n",
    "labels = []\n",
    "for folder in os.listdir(path):\n",
    "    for img_file in os.listdir(path+'/'+folder+'/'):\n",
    "        img_file = Image.open(path+'/'+folder+'/'+img_file)\n",
    "        img_path = img_file.filename\n",
    "        img_file = img_file.convert('L')\n",
    "        \n",
    "        # Open in the image file\n",
    "#         img_file = img_file.convert(\"L\").filter(ImageFilter.GaussianBlur(radius = 2))\n",
    "        curr_img = img(img_file=img_file, img_path=img_path)\n",
    "        \n",
    "        # Take a vectore representation of the image\n",
    "        curr_img.flatten_image()\n",
    "        data.append(curr_img.img_vector)\n",
    "        \n",
    "        # add the label\n",
    "        curr_img.get_img_label()\n",
    "        labels.append(curr_img.img_label)\n",
    "\n",
    "data = np.array(data)"
   ]
  },
  {
   "cell_type": "code",
   "execution_count": 8,
   "metadata": {
    "collapsed": false
   },
   "outputs": [
    {
     "name": "stderr",
     "output_type": "stream",
     "text": [
      "/home/reza/anaconda2/lib/python2.7/site-packages/ipykernel/__main__.py:20: SettingWithCopyWarning: \n",
      "A value is trying to be set on a copy of a slice from a DataFrame\n",
      "\n",
      "See the caveats in the documentation: http://pandas.pydata.org/pandas-docs/stable/indexing.html#indexing-view-versus-copy\n"
     ]
    }
   ],
   "source": [
    "from sklearn.decomposition import PCA\n",
    "from sklearn.ensemble import RandomForestClassifier\n",
    "from sklearn.neighbors import KNeighborsClassifier\n",
    "from sklearn import cross_validation\n",
    "from sklearn.cross_validation import cross_val_score\n",
    "from sklearn import svm\n",
    "\n",
    "# Create the training data\n",
    "pca = PCA(n_components=50)\n",
    "X = pca.fit_transform(data)\n",
    "df = DataFrame(X)\n",
    "response = 'label'\n",
    "df[response] = labels\n",
    "\n",
    "# Divide data to test and train\n",
    "mask = np.random.rand(len(df)) < 0.85\n",
    "train_dat = df[mask]\n",
    "test_dat = df[~mask]\n",
    "y_test = np.array(test_dat[response])\n",
    "test_dat.drop(response, axis=1, inplace=True)\n"
   ]
  },
  {
   "cell_type": "code",
   "execution_count": 9,
   "metadata": {
    "collapsed": false
   },
   "outputs": [
    {
     "data": {
      "text/plain": [
       "0.42517605633802819"
      ]
     },
     "execution_count": 9,
     "metadata": {},
     "output_type": "execute_result"
    }
   ],
   "source": [
    "# Run random forest on the train model and pick the number\n",
    "# of trees used for the model\n",
    "rf = RandomForestClassifier(n_estimators=1000, oob_score=True)\n",
    "rf.fit(train_dat.drop(response, axis=1), train_dat[response])\n",
    "prediction = rf.predict(test_dat)\n",
    "\n",
    "# Check error percentage on the test set and tune parameters\n",
    "mean(prediction != y_test)"
   ]
  },
  {
   "cell_type": "code",
   "execution_count": 124,
   "metadata": {
    "collapsed": false
   },
   "outputs": [
    {
     "data": {
      "text/plain": [
       "array(['N'], dtype=object)"
      ]
     },
     "execution_count": 124,
     "metadata": {},
     "output_type": "execute_result"
    }
   ],
   "source": [
    "# Lets test this on a sample image\n",
    "path = '/home/reza/Downloads/test.jpg'\n",
    "img_file = Image.open(path)\n",
    "img_path = img_file.filename\n",
    "img_file = img_file.convert('L')\n",
    "        \n",
    "# Open in the image file\n",
    "img_file = img_file.convert(\"L\").filter(ImageFilter.GaussianBlur(radius = 2))\n",
    "curr_img = img(img_file=img_file, img_path=img_path)\n",
    "        \n",
    "# Take a vectore representation of the image\n",
    "curr_img.flatten_image()\n",
    "test_point = pca.transform(curr_img.img_vector)\n",
    "\n",
    "# Predict the label for the test point\n",
    "rf.predict(test_point)"
   ]
  },
  {
   "cell_type": "code",
   "execution_count": 55,
   "metadata": {
    "collapsed": false
   },
   "outputs": [
    {
     "data": {
      "image/png": "[encoded data removed]",
      "text/plain": [
       "<PIL.Image.Image image mode=L size=225x225 at 0x7FB70BB56F10>"
      ]
     },
     "execution_count": 55,
     "metadata": {},
     "output_type": "execute_result"
    }
   ],
   "source": [
    "from PIL import ImageFilter\n",
    "img_file.filter(ImageFilter.SHARPEN)\n"
   ]
  },
  {
   "cell_type": "markdown",
   "metadata": {},
   "source": [
    "## Using a different Dataset for Handwriting Recognition"
   ]
  },
  {
   "cell_type": "code",
   "execution_count": 3,
   "metadata": {
    "collapsed": false,
    "scrolled": true
   },
   "outputs": [],
   "source": [
    "# Read the symbols in the data\n",
    "path = '/home/reza/MachineLearning/Hand-Writing-Recognition/data/coordinate/'\n",
    "symbols = pd.read_csv(path+'symbols.csv', error_bad_lines=False, delimiter=';')\n",
    "\n",
    "# Create a mapping from the symbol to the character it represents\n",
    "id_to_char = dict(zip(symbols.symbol_id.astype(str), symbols.latex))"
   ]
  },
  {
   "cell_type": "code",
   "execution_count": null,
   "metadata": {
    "collapsed": false
   },
   "outputs": [],
   "source": [
    "import csv\n",
    "import json\n",
    "\n",
    "# Create a dictionary with keys alphanumeric characters\n",
    "# and values strokes. Each stroc consists of a set of \n",
    "# (x,y,t) coordinates\n",
    "recordings = []\n",
    "with open(path+'train-data.csv', 'rb') as csvfile:\n",
    "    data = csv.reader(csvfile, delimiter=';')\n",
    "    next(data, None)\n",
    "    for row in data:\n",
    "        symbol = id_to_char[row[0]]\n",
    "        if symbol.isalnum():\n",
    "            record = dict()\n",
    "            record[symbol] = json.loads(row[2])\n",
    "            recordings.append(record)"
   ]
  },
  {
   "cell_type": "code",
   "execution_count": 8,
   "metadata": {
    "collapsed": false
   },
   "outputs": [],
   "source": [
    "# Find the distribution distance between strokes\n",
    "def find_dist(x,y):\n",
    "    x = np.array([x['x'], x['y']])\n",
    "    y = np.array([y['x'], y['y']])\n",
    "    return sqrt(sum((x-y)**2))\n",
    "    \n",
    "stroke_dist = []\n",
    "for record in recordings:\n",
    "    strokes = record[record.keys()[0]]\n",
    "    for i in range(1, len(strokes)):\n",
    "        # current point\n",
    "        s_curr = strokes[i][0]\n",
    "        \n",
    "        # previous point\n",
    "        s_prev = strokes[i-1][-1]\n",
    "        stroke_dist.append(find_dist(s_curr, s_prev))\n"
   ]
  },
  {
   "cell_type": "code",
   "execution_count": 222,
   "metadata": {
    "collapsed": false
   },
   "outputs": [
    {
     "data": {
      "text/plain": [
       "(array([ 203.,  210.,  385.,  393.,  352.,  193.,   86.,   37.,   10.,    5.]),\n",
       " array([   0.        ,   36.49657492,   72.99314984,  109.48972476,\n",
       "         145.98629967,  182.48287459,  218.97944951,  255.47602443,\n",
       "         291.97259935,  328.46917427,  364.96574918]),\n",
       " <a list of 10 Patch objects>)"
      ]
     },
     "execution_count": 222,
     "metadata": {},
     "output_type": "execute_result"
    },
    {
     "data": {
      "image/png": "[encoded data removed]",
      "text/plain": [
       "<matplotlib.figure.Figure at 0x7f2cc84a11d0>"
      ]
     },
     "metadata": {},
     "output_type": "display_data"
    }
   ],
   "source": [
    "# Plot the distribution of distance between strokes\n",
    "plt.xlabel('Distance Between Strokes')\n",
    "plt.hist(stroke_dist)"
   ]
  },
  {
   "cell_type": "code",
   "execution_count": 223,
   "metadata": {
    "collapsed": false
   },
   "outputs": [
    {
     "name": "stdout",
     "output_type": "stream",
     "text": [
      "There are %4.64247598719 of the strokes with distance less than 10\n"
     ]
    }
   ],
   "source": [
    "# Find some stats on distance between strokes\n",
    "threshold = 10\n",
    "percent_low_dist = len(filter(lambda x: x < threshold, stroke_dist))/float(len(stroke_dist)) * 100\n",
    "print 'There are %{} of the strokes with distance less than {}'.format(percent_low_dist, threshold)"
   ]
  },
  {
   "cell_type": "code",
   "execution_count": 437,
   "metadata": {
    "collapsed": true
   },
   "outputs": [],
   "source": [
    "# Find the distribution of speed betweeen consecutive points\n",
    "points_speed = []\n",
    "for record in recordings:\n",
    "    strokes = record[record.keys()[0]]\n",
    "    for stroke in strokes:\n",
    "        for i in range(1, len(stroke)):\n",
    "            speed = find_dist(stroke[i], stroke[i-1])/float(stroke[i]['time'])\n",
    "            points_speed.append(speed)\n",
    "            "
   ]
  },
  {
   "cell_type": "code",
   "execution_count": 445,
   "metadata": {
    "collapsed": false
   },
   "outputs": [
    {
     "data": {
      "text/plain": [
       "(array([  3.23520000e+05,   1.10000000e+01,   1.00000000e+00,\n",
       "          0.00000000e+00,   0.00000000e+00,   0.00000000e+00,\n",
       "          0.00000000e+00,   0.00000000e+00,   0.00000000e+00]),\n",
       " array([0, 1, 2, 3, 4, 5, 6, 7, 8, 9]),\n",
       " <a list of 9 Patch objects>)"
      ]
     },
     "execution_count": 445,
     "metadata": {},
     "output_type": "execute_result"
    },
    {
     "data": {
      "image/png": "[encoded data removed]",
      "text/plain": [
       "<matplotlib.figure.Figure at 0x7f2cb6e38dd0>"
      ]
     },
     "metadata": {},
     "output_type": "display_data"
    }
   ],
   "source": [
    "# Plot the distribution of the speed between consecutive points\n",
    "plt.hist(points_speed, bins=range(10))"
   ]
  },
  {
   "cell_type": "code",
   "execution_count": 464,
   "metadata": {
    "collapsed": false
   },
   "outputs": [
    {
     "name": "stdout",
     "output_type": "stream",
     "text": [
      "There are %0.0 of the control points with distance greater than 3\n"
     ]
    }
   ],
   "source": [
    "# Find some stats on distance between strokes\n",
    "threshold = 3\n",
    "percent_low_dist = len(filter(lambda x: x > threshold, points_speed))/float(len(stroke_dist)) * 100\n",
    "print 'There are %{} of the control points with distance greater than {}'.format(percent_low_dist, threshold)"
   ]
  },
  {
   "cell_type": "code",
   "execution_count": 100,
   "metadata": {
    "collapsed": true
   },
   "outputs": [],
   "source": [
    "# Some configuration needed for modifying the drawing record\n",
    "FACTOR_CORRECTION = 0.00001\n",
    "STOROKE_CONNECT_THERESHOLD=10\n",
    "SMOOTHING_WEIGHT = 1.0/3\n",
    "DEHOOK_THRESHOLD = 3\n",
    "DEHOOK_ANGLE_THRESHOLD_BEG = 50\n",
    "DEHOOK_ANGLE_THRESHOLD_END = 50"
   ]
  },
  {
   "cell_type": "code",
   "execution_count": 126,
   "metadata": {
    "collapsed": false,
    "scrolled": false
   },
   "outputs": [
    {
     "data": {
      "image/png": "[encoded data removed]",
      "text/plain": [
       "<matplotlib.figure.Figure at 0x7fbe889b5390>"
      ]
     },
     "metadata": {},
     "output_type": "display_data"
    },
    {
     "name": "stdout",
     "output_type": "stream",
     "text": [
      "21.781966648 beg\n",
      "45.0009780791 end\n"
     ]
    },
    {
     "data": {
      "image/png": "[encoded data removed]",
      "text/plain": [
       "<matplotlib.figure.Figure at 0x7fbe889b5250>"
      ]
     },
     "metadata": {},
     "output_type": "display_data"
    },
    {
     "data": {
      "text/plain": [
       "[[{u'time': 165, u'x': 233, u'y': 301},\n",
       "  {u'time': 175, u'x': 168, u'y': 284},\n",
       "  {u'time': 184, u'x': 160, u'y': 285},\n",
       "  {u'time': 200, u'x': 151, u'y': 288},\n",
       "  {u'time': 217, u'x': 143, u'y': 292},\n",
       "  {u'time': 234, u'x': 137, u'y': 298},\n",
       "  {u'time': 250, u'x': 131, u'y': 305},\n",
       "  {u'time': 268, u'x': 125, u'y': 313},\n",
       "  {u'time': 284, u'x': 120, u'y': 323},\n",
       "  {u'time': 300, u'x': 115, u'y': 334},\n",
       "  {u'time': 317, u'x': 112, u'y': 346},\n",
       "  {u'time': 334, u'x': 111, u'y': 358},\n",
       "  {u'time': 351, u'x': 111, u'y': 370},\n",
       "  {u'time': 368, u'x': 113, u'y': 381},\n",
       "  {u'time': 385, u'x': 116, u'y': 392},\n",
       "  {u'time': 401, u'x': 118, u'y': 403},\n",
       "  {u'time': 417, u'x': 121, u'y': 415},\n",
       "  {u'time': 434, u'x': 125, u'y': 424},\n",
       "  {u'time': 451, u'x': 128, u'y': 430},\n",
       "  {u'time': 467, u'x': 131, u'y': 434},\n",
       "  {u'time': 484, u'x': 137, u'y': 438},\n",
       "  {u'time': 500, u'x': 145, u'y': 440},\n",
       "  {u'time': 518, u'x': 153, u'y': 441},\n",
       "  {u'time': 537, u'x': 162, u'y': 441},\n",
       "  {u'time': 554, u'x': 172, u'y': 440},\n",
       "  {u'time': 569, u'x': 181, u'y': 438},\n",
       "  {u'time': 584, u'x': 190, u'y': 436},\n",
       "  {u'time': 601, u'x': 198, u'y': 434},\n",
       "  {u'time': 617, u'x': 206, u'y': 432},\n",
       "  {u'time': 634, u'x': 212, u'y': 430},\n",
       "  {u'time': 651, u'x': 217, u'y': 428},\n",
       "  {u'time': 670, u'x': 221, u'y': 426},\n",
       "  {u'time': 684, u'x': 224, u'y': 424},\n",
       "  {u'time': 701, u'x': 227, u'y': 423},\n",
       "  {u'time': 718, u'x': 228, u'y': 421},\n",
       "  {u'time': 734, u'x': 229, u'y': 420},\n",
       "  {u'time': 749, u'x': 229, u'y': 419}]]"
      ]
     },
     "execution_count": 126,
     "metadata": {},
     "output_type": "execute_result"
    }
   ],
   "source": [
    "# Create a class drawing_record that has methods to\n",
    "# handle each record (scaling, resampling, feature extraction)\n",
    "class drawing_record():\n",
    "    def  __init__(self, strokes):\n",
    "        self.strokes = strokes\n",
    "    \n",
    "    def remov_None_strokes(self):\n",
    "        \"\"\"\n",
    "        Clean the strokes for None values\n",
    "        \"\"\"\n",
    "        cleaned = []\n",
    "        for stroke in self.strokes:\n",
    "            if stroke is not None:\n",
    "                cleaned.append(stroke)\n",
    "        self.strokes = cleaned\n",
    "    \n",
    "    def wild_filter(self):\n",
    "        \"\"\"\n",
    "        Remove points with high speed (caused by hardware error)\n",
    "        \"\"\"\n",
    "        pass\n",
    "        \n",
    "    def stroke_connect(self):\n",
    "        \"\"\"\n",
    "        Connects two srokes if the distance betwen them\n",
    "        is unusualy close\n",
    "        \"\"\"\n",
    "        # If there is only one stroke do nothing\n",
    "        if len(self.strokes) < 2:\n",
    "            return\n",
    "        \n",
    "        connected = []\n",
    "        i, n = 0, len(self.strokes)\n",
    "        while i < n:\n",
    "            temp = self.strokes[i]\n",
    "            while i+1<n and find_dist(temp[-1], self.strokes[i+1][0]) < STOROKE_CONNECT_THERESHOLD:\n",
    "                print 'connection happened'\n",
    "                temp = temp + self.strokes[i+1]\n",
    "                i+=1\n",
    "            connected.append(temp)\n",
    "            i += 1\n",
    "        self.strokes = connected \n",
    "    \n",
    "    def dehook(self, beg=False, end=False):\n",
    "        \"\"\"\n",
    "        Removes hooks at the begining or end of a stroke\n",
    "        \"\"\"\n",
    "        if not beg and not end:\n",
    "            print 'Dehooking was not done, set beg or end to True'\n",
    "            return\n",
    "        # Given three points p0,p1,p2 in order, it calculates\n",
    "        # the angle between p_10 and p_21\n",
    "        def calculate_angle(points):\n",
    "            # Return euclidean distance between two points\n",
    "            def diff(v,w):\n",
    "                v = np.array([v['x'], v['y']])\n",
    "                w = np.array([w['x'], w['y']])\n",
    "                return v-w\n",
    "            p_10 = diff(points[0], points[1])\n",
    "            p_21 = diff(points[1], points[2])\n",
    "            # Find the cosine of the angle\n",
    "            cos_angle = float(p_10.dot(p_21))/((sqrt(p_10.dot(p_10)) + \n",
    "                                                FACTOR_CORRECTION) * \n",
    "                                               (sqrt(p_21.dot(p_21)) +\n",
    "                                                FACTOR_CORRECTION))\n",
    "            angle = arccos(cos_angle) * 180/pi\n",
    "            return angle\n",
    "        \n",
    "        # Dehooks at the begining\n",
    "        def dehook_stroke_beg(index):\n",
    "            if len(self.strokes[i]) < DEHOOK_THRESHOLD:\n",
    "                print 'There are not enough points in the stroke to dehook'\n",
    "                return\n",
    "            three_points = self.strokes[i][index:index+3]\n",
    "            if calculate_angle(three_points) < DEHOOK_ANGLE_THRESHOLD_BEG:\n",
    "                print calculate_angle(three_points), 'beg'\n",
    "                return self.strokes[i][index:]\n",
    "            else:\n",
    "                print calculate_angle(three_points), 'dehooked', 'beg'\n",
    "                return dehook_stroke_beg(index+1)\n",
    "\n",
    "        # Dehooks at the end\n",
    "        def dehook_stroke_end(index):\n",
    "            if len(self.strokes[i]) < DEHOOK_THRESHOLD:\n",
    "                print 'There are not enough points in the stroke to dehook'\n",
    "                return\n",
    "            three_points = self.strokes[i][index-2:index] + [self.strokes[i][index]]\n",
    "            if calculate_angle(three_points) < DEHOOK_ANGLE_THRESHOLD_END:\n",
    "                print calculate_angle(three_points), 'end'\n",
    "                return self.strokes[i][:index] + [self.strokes[i][index]]\n",
    "            else:\n",
    "                print calculate_angle(three_points), 'dehooked', 'end'\n",
    "                return dehook_stroke_end(index-1)\n",
    "        \n",
    "        for i, stroke in enumerate(self.strokes):\n",
    "            if beg:\n",
    "                dehook_beg = dehook_stroke_beg(0)\n",
    "                if dehook_beg is not None:\n",
    "                    self.strokes[i] = dehook_beg\n",
    "            if end:\n",
    "                dehook_end = dehook_stroke_end(-1)\n",
    "                if dehook_end is not None:\n",
    "                    self.strokes[i] = dehook_end\n",
    "    \n",
    "    def average_smoothing(self):\n",
    "        \"\"\"\n",
    "        Smooths every stroke using a weighted average.\n",
    "        \"\"\"\n",
    "        smoothened = []\n",
    "        for stroke in self.strokes:\n",
    "            smoothened.append([stroke[0]])\n",
    "            for i in range(1, len(stroke)-1):\n",
    "                p = {'time':0, 'x':0, 'y':0}\n",
    "                for point in [stroke[i-1], stroke[i], stroke[i+1]]:\n",
    "                    p['time'] += point['time']\n",
    "                    p['x'] += point['x']\n",
    "                    p['y'] += point['y']\n",
    "                p = dict(map(lambda (x,y): (x, y*SMOOTHING_WEIGHT),\n",
    "                             p.items()))\n",
    "                smoothened[-1].append(p)\n",
    "            smoothened[-1].append(stroke[-1])\n",
    "        self.strokes = smoothened\n",
    "        \n",
    "    def find_bounding_box(self):\n",
    "        \"\"\"\n",
    "        Find the bounding box of the drawing character\n",
    "        \"\"\"\n",
    "        mint, minx, miny = [float('inf')]*3\n",
    "        maxx, maxy, maxt = [float('-inf')]*3\n",
    "        for stroke in self.strokes:\n",
    "            for point in stroke:\n",
    "                if point['time'] < mint:\n",
    "                    mint = point['time']\n",
    "                if point['x'] < minx:\n",
    "                    minx = point['x']\n",
    "                if point['y'] < miny:\n",
    "                    miny = point['y']\n",
    "                if point['x'] > maxx:\n",
    "                    maxx = point['x']\n",
    "                if point['y'] > maxy:\n",
    "                    maxy = point['y']\n",
    "        return (mint, minx, maxx, miny, maxy)\n",
    "\n",
    "    def scale_shift(self):\n",
    "        \"\"\"\n",
    "        Scale and shif the coordinates of the drawing.\n",
    "        Only the smaller dimension gets centered\n",
    "        \"\"\"\n",
    "        mint, minx, maxx, miny, maxy = self.find_bounding_box()\n",
    "        for stroke in self.strokes:\n",
    "            for point in stroke:\n",
    "                width = (maxx-minx) + FACTOR_CORRECTION\n",
    "                height = (maxy-miny) + FACTOR_CORRECTION\n",
    "                fx = 1.0/width\n",
    "                fy = 1.0/height\n",
    "                f = min(fx,fy)\n",
    "                add = min(width, height)/2.0 * f\n",
    "                addx, addy = 0, 0\n",
    "                if f == fx:\n",
    "                    addx = add\n",
    "                else:\n",
    "                    addy = add\n",
    "                point['x'] = (point['x'] - minx) * f - addx\n",
    "                point['y'] = (point['y'] - miny) * f - addy\n",
    "                point['time'] = point['time'] - mint\n",
    "\n",
    "    def resample(self):\n",
    "        pass\n",
    "    def plot_drawing(self):\n",
    "        x_val = []\n",
    "        y_val = []\n",
    "        for stroke in self.strokes:\n",
    "            for point in stroke:\n",
    "                x_val.append(point['x'])\n",
    "                y_val.append(-point['y'])\n",
    "        plt.scatter(x_val, y_val, s=200, alpha=0.4)\n",
    "        plt.show(block=False)\n",
    "\n",
    "dr = drawing_record(recordings[200][recordings[200].keys()[0]])\n",
    "dr.remov_None_strokes()\n",
    "dr.plot_drawing()\n",
    "dr.dehook(beg=True, end=True)\n",
    "dr.stroke_connect()\n",
    "# dr.average_smoothing()\n",
    "# dr.scale_shift()\n",
    "dr.plot_drawing()\n",
    "dr.strokes"
   ]
  },
  {
   "cell_type": "code",
   "execution_count": 493,
   "metadata": {
    "collapsed": false,
    "scrolled": true
   },
   "outputs": [],
   "source": [
    "# for i in range(200000):\n",
    "#     for key, _ in recordings[i].items():\n",
    "#         if len(recordings[i][key]) == 3:\n",
    "#             print i\n",
    "#             break"
   ]
  },
  {
   "cell_type": "code",
   "execution_count": 494,
   "metadata": {
    "collapsed": false,
    "scrolled": true
   },
   "outputs": [],
   "source": [
    "# for j, record in enumerate(recordings):\n",
    "#     strokes = record[record.keys()[0]]\n",
    "#     for i in range(1, len(strokes)):\n",
    "#         # current point\n",
    "#         s_curr = strokes[i][0]\n",
    "        \n",
    "#         # previous point\n",
    "#         s_prev = strokes[i-1][-1]\n",
    "#         if find_dist(s_curr, s_prev) < 10:\n",
    "#             print j\n",
    "#             break\n"
   ]
  },
  {
   "cell_type": "code",
   "execution_count": 121,
   "metadata": {
    "collapsed": false
   },
   "outputs": [
    {
     "data": {
      "text/plain": [
       "{'C': [[{u'time': 165, u'x': 233, u'y': 301},\n",
       "   {u'time': 175, u'x': 168, u'y': 284},\n",
       "   {u'time': 184, u'x': 160, u'y': 285},\n",
       "   {u'time': 200, u'x': 151, u'y': 288},\n",
       "   {u'time': 217, u'x': 143, u'y': 292},\n",
       "   {u'time': 234, u'x': 137, u'y': 298},\n",
       "   {u'time': 250, u'x': 131, u'y': 305},\n",
       "   {u'time': 268, u'x': 125, u'y': 313},\n",
       "   {u'time': 284, u'x': 120, u'y': 323},\n",
       "   {u'time': 300, u'x': 115, u'y': 334},\n",
       "   {u'time': 317, u'x': 112, u'y': 346},\n",
       "   {u'time': 334, u'x': 111, u'y': 358},\n",
       "   {u'time': 351, u'x': 111, u'y': 370},\n",
       "   {u'time': 368, u'x': 113, u'y': 381},\n",
       "   {u'time': 385, u'x': 116, u'y': 392},\n",
       "   {u'time': 401, u'x': 118, u'y': 403},\n",
       "   {u'time': 417, u'x': 121, u'y': 415},\n",
       "   {u'time': 434, u'x': 125, u'y': 424},\n",
       "   {u'time': 451, u'x': 128, u'y': 430},\n",
       "   {u'time': 467, u'x': 131, u'y': 434},\n",
       "   {u'time': 484, u'x': 137, u'y': 438},\n",
       "   {u'time': 500, u'x': 145, u'y': 440},\n",
       "   {u'time': 518, u'x': 153, u'y': 441},\n",
       "   {u'time': 537, u'x': 162, u'y': 441},\n",
       "   {u'time': 554, u'x': 172, u'y': 440},\n",
       "   {u'time': 569, u'x': 181, u'y': 438},\n",
       "   {u'time': 584, u'x': 190, u'y': 436},\n",
       "   {u'time': 601, u'x': 198, u'y': 434},\n",
       "   {u'time': 617, u'x': 206, u'y': 432},\n",
       "   {u'time': 634, u'x': 212, u'y': 430},\n",
       "   {u'time': 651, u'x': 217, u'y': 428},\n",
       "   {u'time': 670, u'x': 221, u'y': 426},\n",
       "   {u'time': 684, u'x': 224, u'y': 424},\n",
       "   {u'time': 701, u'x': 227, u'y': 423},\n",
       "   {u'time': 718, u'x': 228, u'y': 421},\n",
       "   {u'time': 734, u'x': 229, u'y': 420},\n",
       "   {u'time': 749, u'x': 229, u'y': 419}]]}"
      ]
     },
     "execution_count": 121,
     "metadata": {},
     "output_type": "execute_result"
    }
   ],
   "source": [
    "recordings[200]"
   ]
  },
  {
   "cell_type": "code",
   "execution_count": 46,
   "metadata": {
    "collapsed": false
   },
   "outputs": [
    {
     "data": {
      "text/plain": [
       "{'a': 2, 'b': 4}"
      ]
     },
     "execution_count": 46,
     "metadata": {},
     "output_type": "execute_result"
    }
   ],
   "source": [
    "a = {'a':1, 'b':2}\n",
    "b = {'a':10, 'b':19}\n",
    "dict(map(lambda (x,y): (x,2*y), a.items()))"
   ]
  },
  {
   "cell_type": "code",
   "execution_count": 108,
   "metadata": {
    "collapsed": false
   },
   "outputs": [
    {
     "data": {
      "text/plain": [
       "655.0"
      ]
     },
     "execution_count": 108,
     "metadata": {},
     "output_type": "execute_result"
    }
   ],
   "source": [
    "round(655.4, 0)"
   ]
  },
  {
   "cell_type": "code",
   "execution_count": null,
   "metadata": {
    "collapsed": true
   },
   "outputs": [],
   "source": []
  }
 ],
 "metadata": {
  "kernelspec": {
   "display_name": "Python 2",
   "language": "python",
   "name": "python2"
  },
  "language_info": {
   "codemirror_mode": {
    "name": "ipython",
    "version": 2
   },
   "file_extension": ".py",
   "mimetype": "text/x-python",
   "name": "python",
   "nbconvert_exporter": "python",
   "pygments_lexer": "ipython2",
   "version": "2.7.11"
  }
 },
 "nbformat": 4,
 "nbformat_minor": 0
}
