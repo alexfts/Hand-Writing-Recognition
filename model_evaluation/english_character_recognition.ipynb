{
 "cells": [
  {
   "cell_type": "code",
   "execution_count": 2,
   "metadata": {
    "collapsed": false
   },
   "outputs": [
    {
     "name": "stdout",
     "output_type": "stream",
     "text": [
      "Populating the interactive namespace from numpy and matplotlib\n"
     ]
    }
   ],
   "source": [
    "# imports\n",
    "import pandas as pd\n",
    "from pandas import DataFrame, Series\n",
    "import numpy as np\n",
    "import matplotlib.pyplot as plt\n",
    "import time\n",
    "import seaborn\n",
    "import os\n",
    "import string\n",
    "from PIL import Image\n",
    "\n",
    "%pylab inline"
   ]
  },
  {
   "cell_type": "code",
   "execution_count": 2,
   "metadata": {
    "collapsed": false
   },
   "outputs": [],
   "source": [
    "# Create a mapping from the image files to the character they represents\n",
    "character_list = list(string.digits + string.ascii_uppercase + string.ascii_lowercase)\n",
    "nums = range(1,len(character_list)+1)\n",
    "file_to_character = dict(zip(nums, character_list))"
   ]
  },
  {
   "cell_type": "code",
   "execution_count": 10,
   "metadata": {
    "collapsed": false
   },
   "outputs": [],
   "source": [
    "# Take the median size of the images as the standard_size for \n",
    "# normalization of the images\n",
    "path = '/home/reza/MachineLearning/Hand-Writing-Recognition/data/English/img/'\n",
    "img_sizes = []\n",
    "for folder in os.listdir(path):\n",
    "    for img_file in os.listdir(path+'/'+folder+'/'):\n",
    "        img = Image.open(path+'/'+folder+'/'+img_file)\n",
    "        img_sizes.append(img.size)\n",
    "\n",
    "# resize function only takes int values\n",
    "STANDARD_SIZE = map(int, median(img_sizes, axis=0))"
   ]
  },
  {
   "cell_type": "code",
   "execution_count": 6,
   "metadata": {
    "collapsed": false
   },
   "outputs": [],
   "source": [
    "# Create an image class that allows us to represent the image in matrix or vector from\n",
    "class img():\n",
    "    def __init__(self, img_file=None, img_path=None):\n",
    "        if img_file is None or img_path is None:\n",
    "            raise Exception('Must give an image file as input along'\n",
    "                            'with its file name')\n",
    "        self.img_matrix = None\n",
    "        self.img_vector = None\n",
    "        self.img_label = None\n",
    "        self.img_file = img_file\n",
    "        self.img_path = img_path\n",
    "        \n",
    "    def img_to_matrix(self):\n",
    "        \"\"\"\n",
    "        Extract a matrix representation of the image\n",
    "        \"\"\"\n",
    "        # Resize the image to a standard size\n",
    "        img_resized = self.img_file.resize(STANDARD_SIZE)\n",
    "        self.img_matrix = array(img_resized)\n",
    "\n",
    "    def flatten_image(self):\n",
    "        \"\"\"\n",
    "        Flatten the matrix representation of the image. If the\n",
    "        matrix has shape (m, n) then the vector representation\n",
    "        has shape (1, m * n)\n",
    "        \"\"\"\n",
    "        if self.img_matrix is None:\n",
    "            self.img_to_matrix()\n",
    "        s = self.img_matrix.shape[0] * self.img_matrix.shape[1]\n",
    "        self.img_vector = self.img_matrix.reshape(1, s)[0]\n",
    "\n",
    "    def get_img_label(self):\n",
    "        \"\"\"\"\n",
    "        Sets the label for the image file, i.e, the English\n",
    "        character the image is showing\n",
    "        \"\"\"\n",
    "        file_name = self.img_path.split('/')[-1][3:6]\n",
    "        self.img_label = file_to_character[int(file_name)]\n",
    "        \n",
    "# img1 = img(img_file=img_file, img_path='blahblah/im-001')\n",
    "# img1.img_label\n",
    "# img1.img_to_matrix()\n",
    "# print img1.img_matrix\n",
    "# img1.flatten_image()\n",
    "# img1.img_vector\n",
    "# img1.get_img_label()\n",
    "# img1.img_label\n"
   ]
  },
  {
   "cell_type": "code",
   "execution_count": 7,
   "metadata": {
    "collapsed": false
   },
   "outputs": [],
   "source": [
    "# Gather features of the image for building the training data\n",
    "path = '/home/reza/MachineLearning/Hand-Writing-Recognition/data/English/img/'\n",
    "data = []\n",
    "labels = []\n",
    "for folder in os.listdir(path):\n",
    "    for img_file in os.listdir(path+'/'+folder+'/'):\n",
    "        img_file = Image.open(path+'/'+folder+'/'+img_file)\n",
    "        img_path = img_file.filename\n",
    "        img_file = img_file.convert('L')\n",
    "        \n",
    "        # Open in the image file\n",
    "#         img_file = img_file.convert(\"L\").filter(ImageFilter.GaussianBlur(radius = 2))\n",
    "        curr_img = img(img_file=img_file, img_path=img_path)\n",
    "        \n",
    "        # Take a vectore representation of the image\n",
    "        curr_img.flatten_image()\n",
    "        data.append(curr_img.img_vector)\n",
    "        \n",
    "        # add the label\n",
    "        curr_img.get_img_label()\n",
    "        labels.append(curr_img.img_label)\n",
    "\n",
    "data = np.array(data)"
   ]
  },
  {
   "cell_type": "code",
   "execution_count": 8,
   "metadata": {
    "collapsed": false
   },
   "outputs": [
    {
     "name": "stderr",
     "output_type": "stream",
     "text": [
      "/home/reza/anaconda2/lib/python2.7/site-packages/ipykernel/__main__.py:20: SettingWithCopyWarning: \n",
      "A value is trying to be set on a copy of a slice from a DataFrame\n",
      "\n",
      "See the caveats in the documentation: http://pandas.pydata.org/pandas-docs/stable/indexing.html#indexing-view-versus-copy\n"
     ]
    }
   ],
   "source": [
    "from sklearn.decomposition import PCA\n",
    "from sklearn.ensemble import RandomForestClassifier\n",
    "from sklearn.neighbors import KNeighborsClassifier\n",
    "from sklearn import cross_validation\n",
    "from sklearn.cross_validation import cross_val_score\n",
    "from sklearn import svm\n",
    "\n",
    "# Create the training data\n",
    "pca = PCA(n_components=50)\n",
    "X = pca.fit_transform(data)\n",
    "df = DataFrame(X)\n",
    "response = 'label'\n",
    "df[response] = labels\n",
    "\n",
    "# Divide data to test and train\n",
    "mask = np.random.rand(len(df)) < 0.85\n",
    "train_dat = df[mask]\n",
    "test_dat = df[~mask]\n",
    "y_test = np.array(test_dat[response])\n",
    "test_dat.drop(response, axis=1, inplace=True)\n"
   ]
  },
  {
   "cell_type": "code",
   "execution_count": 9,
   "metadata": {
    "collapsed": false
   },
   "outputs": [
    {
     "data": {
      "text/plain": [
       "0.42517605633802819"
      ]
     },
     "execution_count": 9,
     "metadata": {},
     "output_type": "execute_result"
    }
   ],
   "source": [
    "# Run random forest on the train model and pick the number\n",
    "# of trees used for the model\n",
    "rf = RandomForestClassifier(n_estimators=1000, oob_score=True)\n",
    "rf.fit(train_dat.drop(response, axis=1), train_dat[response])\n",
    "prediction = rf.predict(test_dat)\n",
    "\n",
    "# Check error percentage on the test set and tune parameters\n",
    "mean(prediction != y_test)"
   ]
  },
  {
   "cell_type": "code",
   "execution_count": 124,
   "metadata": {
    "collapsed": false
   },
   "outputs": [
    {
     "data": {
      "text/plain": [
       "array(['N'], dtype=object)"
      ]
     },
     "execution_count": 124,
     "metadata": {},
     "output_type": "execute_result"
    }
   ],
   "source": [
    "# Lets test this on a sample image\n",
    "path = '/home/reza/Downloads/test.jpg'\n",
    "img_file = Image.open(path)\n",
    "img_path = img_file.filename\n",
    "img_file = img_file.convert('L')\n",
    "        \n",
    "# Open in the image file\n",
    "img_file = img_file.convert(\"L\").filter(ImageFilter.GaussianBlur(radius = 2))\n",
    "curr_img = img(img_file=img_file, img_path=img_path)\n",
    "        \n",
    "# Take a vectore representation of the image\n",
    "curr_img.flatten_image()\n",
    "test_point = pca.transform(curr_img.img_vector)\n",
    "\n",
    "# Predict the label for the test point\n",
    "rf.predict(test_point)"
   ]
  },
  {
   "cell_type": "code",
   "execution_count": 55,
   "metadata": {
    "collapsed": false
   },
   "outputs": [
    {
     "data": {
      "image/png": "[encoded data removed]",
      "text/plain": [
       "<PIL.Image.Image image mode=L size=225x225 at 0x7FB70BB56F10>"
      ]
     },
     "execution_count": 55,
     "metadata": {},
     "output_type": "execute_result"
    }
   ],
   "source": [
    "from PIL import ImageFilter\n",
    "img_file.filter(ImageFilter.SHARPEN)\n"
   ]
  },
  {
   "cell_type": "markdown",
   "metadata": {},
   "source": [
    "## Using a different Dataset for Handwriting Recognition"
   ]
  },
  {
   "cell_type": "code",
   "execution_count": 3,
   "metadata": {
    "collapsed": false,
    "scrolled": true
   },
   "outputs": [],
   "source": [
    "# Read the symbols in the data\n",
    "path = '/home/reza/MachineLearning/Hand-Writing-Recognition/data/coordinate/'\n",
    "symbols = pd.read_csv(path+'symbols.csv', error_bad_lines=False, delimiter=';')\n",
    "\n",
    "# Create a mapping from the symbol to the character it represents\n",
    "id_to_char = dict(zip(symbols.symbol_id.astype(str), symbols.latex))"
   ]
  },
  {
   "cell_type": "code",
   "execution_count": 430,
   "metadata": {
    "collapsed": false
   },
   "outputs": [],
   "source": [
    "import csv\n",
    "import json\n",
    "\n",
    "# Create a dictionary with keys alphanumeric characters\n",
    "# and values strokes. Each stroc consists of a set of \n",
    "# (x,y,t) coordinates\n",
    "recordings = []\n",
    "with open(path+'train-data.csv', 'rb') as csvfile:\n",
    "    data = csv.reader(csvfile, delimiter=';')\n",
    "    next(data, None)\n",
    "    for row in data:\n",
    "        symbol = id_to_char[row[0]]\n",
    "        if symbol.isalnum():\n",
    "            record = dict()\n",
    "            record[symbol] = json.loads(row[2])\n",
    "            recordings.append(record)"
   ]
  },
  {
   "cell_type": "code",
   "execution_count": 423,
   "metadata": {
    "collapsed": true
   },
   "outputs": [],
   "source": [
    "# Some configuration needed for modifying the drawing record\n",
    "FACTOR_CORRECTION = 0.00001\n",
    "DEHOOK_THRESHOLD = 3\n",
    "DEHOOK_ANGLE_THRESHOLD_BEG = 90\n",
    "DEHOOK_ANGLE_THRESHOLD_END = 90"
   ]
  },
  {
   "cell_type": "code",
   "execution_count": 432,
   "metadata": {
    "collapsed": false,
    "scrolled": false
   },
   "outputs": [
    {
     "name": "stdout",
     "output_type": "stream",
     "text": [
      "9.86580694308 beg\n",
      "63.4349488229 end\n",
      "11.309932474 beg\n",
      "1.20741826973e-06 end\n",
      "0.0 beg\n",
      "0.0 end\n"
     ]
    }
   ],
   "source": [
    "# Create a class drawing_record that has methods to\n",
    "# handle each record (scaling, resampling, feature extraction)\n",
    "class drawing_record():\n",
    "    def  __init__(self, record):\n",
    "        self.coordinates = record\n",
    "    def find_bounding_box(self):\n",
    "        \"\"\"\n",
    "        Find the bounding box of the drawing character\n",
    "        \"\"\"\n",
    "        mint, minx, miny = [float('inf')]*3\n",
    "        maxx, maxy, maxt = [float('-inf')]*3\n",
    "        for stroke in self.coordinates:\n",
    "            for point in stroke:\n",
    "                if point['time'] < mint:\n",
    "                    mint = point['time']\n",
    "                if point['x'] < minx:\n",
    "                    minx = point['x']\n",
    "                if point['y'] < miny:\n",
    "                    miny = point['y']\n",
    "                if point['x'] > maxx:\n",
    "                    maxx = point['x']\n",
    "                if point['y'] > maxy:\n",
    "                    maxy = point['y']\n",
    "        return (mint, minx, maxx, miny, maxy)\n",
    "\n",
    "    def dehook(self, beg=False, end=False):\n",
    "        \"\"\"\n",
    "        Removes hooks at the begining or end of a stroke\n",
    "        \"\"\"\n",
    "        if not beg and not end:\n",
    "            print 'Dehooking was not done, set beg or end to True'\n",
    "            return\n",
    "        # Given three points p0,p1,p2 in order, it calculates\n",
    "        # the angle between p_10 and p_21\n",
    "        def calculate_angle(points):\n",
    "            # Return euclidean distance between two points\n",
    "            def diff(v,w):\n",
    "                v = np.array([v['x'], v['y']])\n",
    "                w = np.array([w['x'], w['y']])\n",
    "                return v-w\n",
    "            p_10 = diff(points[0], points[1])\n",
    "            p_21 = diff(points[1], points[2])\n",
    "            cos_angle = float(p_10.dot(p_21))/(sqrt(p_10.dot(p_10)) * sqrt(p_21.dot(p_21)))\n",
    "            angle = arccos(cos_angle) * 180/pi\n",
    "            return angle\n",
    "        \n",
    "        # Dehooks at the begining\n",
    "        def dehook_stroke_beg(stroke, angle):\n",
    "            new_stroke = stroke[1:] # everything but the first point\n",
    "            p = stroke[0] # first point\n",
    "            stroke = stroke[:3] # first three points\n",
    "            if calculate_angle(stroke) < angle:\n",
    "                new_stroke = [p] + new_stroke\n",
    "                print calculate_angle(stroke), 'beg'\n",
    "                return new_stroke\n",
    "            else:\n",
    "                print calculate_angle(stroke), 'dehooked', 'beg'\n",
    "                return dehook_stroke_beg(new_stroke, angle)\n",
    "        \n",
    "        # Dehooks at the end\n",
    "        def dehook_stroke_end(stroke, angle):\n",
    "            all_but_last = stroke[:-1]\n",
    "            last_point = stroke[-1]\n",
    "            three_points = stroke[-3:]\n",
    "            if calculate_angle(three_points) < angle:\n",
    "                all_but_last.append(last_point)\n",
    "                print calculate_angle(three_points), 'end'\n",
    "                return all_but_last\n",
    "            else:\n",
    "                print calculate_angle(three_points), 'dehooked', 'end'\n",
    "                return dehook_stroke_end(all_but_last, angle)\n",
    "        if len(self.coordinates) < DEHOOK_THRESHOLD:\n",
    "            return\n",
    "        for i, stroke in enumerate(self.coordinates):\n",
    "            if beg:\n",
    "                self.coordinates[i] = dehook_stroke_beg(stroke, DEHOOK_ANGLE_THRESHOLD_BEG)\n",
    "            if end:\n",
    "                self.coordinates[i] = dehook_stroke_end(self.coordinates[i], DEHOOK_ANGLE_THRESHOLD_END)\n",
    "    \n",
    "    def scale_shift(self):\n",
    "        \"\"\"\n",
    "        Scale and shif the coordinates of the drawing.\n",
    "        Only the smaller dimension gets centered\n",
    "        \"\"\"\n",
    "        mint, minx, maxx, miny, maxy = self.find_bounding_box()\n",
    "        for stroke in self.coordinates:\n",
    "            for point in stroke:\n",
    "                width = (maxx-minx) + FACTOR_CORRECTION\n",
    "                height = (maxy-miny) + FACTOR_CORRECTION\n",
    "                fx = 1.0/width\n",
    "                fy = 1.0/height\n",
    "                f = min(fx,fy)\n",
    "                add = min(width, height)/2.0 * f\n",
    "                addx, addy = 0, 0\n",
    "                if f == fx:\n",
    "                    addx = add\n",
    "                else:\n",
    "                    addy = add\n",
    "                point['x'] = (point['x'] - minx) * f - addx\n",
    "                point['y'] = (point['y'] - miny) * f - addy\n",
    "                point['time'] = point['time'] - mint\n",
    "\n",
    "    def resample(self):\n",
    "        pass\n",
    "    \n",
    "dr = drawing_record(recordings[4]['A'])\n",
    "# print dr.find_bounding_box()\n",
    "# dr.scale_shift()\n",
    "dr.dehook(beg=True, end=True)\n",
    "# dr.coordinates"
   ]
  },
  {
   "cell_type": "code",
   "execution_count": 434,
   "metadata": {
    "collapsed": false,
    "scrolled": false
   },
   "outputs": [
    {
     "name": "stdout",
     "output_type": "stream",
     "text": [
      "4\n",
      "30\n",
      "32\n",
      "33\n",
      "34\n",
      "35\n",
      "36\n",
      "37\n",
      "38\n",
      "39\n",
      "44\n",
      "53\n",
      "64\n",
      "65\n",
      "67\n",
      "76\n",
      "78\n",
      "81\n",
      "84\n",
      "94\n",
      "95\n",
      "105\n",
      "110\n",
      "111\n",
      "115\n",
      "117\n",
      "121\n",
      "124\n",
      "127\n",
      "136\n",
      "148\n",
      "151\n",
      "153\n",
      "183\n",
      "302\n",
      "331\n",
      "360\n",
      "362\n",
      "363\n",
      "364\n",
      "365\n",
      "367\n",
      "368\n",
      "372\n",
      "378\n",
      "380\n",
      "383\n",
      "384\n",
      "385\n",
      "386\n",
      "387\n",
      "388\n",
      "389\n",
      "394\n",
      "395\n",
      "396\n",
      "397\n",
      "398\n",
      "399\n",
      "400\n",
      "401\n",
      "402\n",
      "403\n",
      "404\n",
      "405\n",
      "407\n",
      "408\n",
      "409\n",
      "411\n",
      "412\n",
      "413\n",
      "414\n",
      "415\n",
      "416\n",
      "417\n",
      "418\n",
      "420\n",
      "424\n",
      "425\n",
      "426\n",
      "427\n",
      "428\n",
      "429\n",
      "430\n",
      "431\n",
      "432\n",
      "433\n",
      "434\n",
      "435\n",
      "436\n",
      "437\n",
      "439\n",
      "440\n",
      "441\n",
      "442\n",
      "443\n",
      "444\n",
      "445\n",
      "446\n",
      "447\n",
      "448\n",
      "449\n",
      "450\n",
      "451\n",
      "452\n",
      "453\n",
      "454\n",
      "455\n",
      "457\n",
      "564\n",
      "565\n",
      "566\n",
      "567\n",
      "568\n",
      "569\n",
      "570\n",
      "571\n",
      "572\n",
      "573\n",
      "574\n",
      "575\n",
      "576\n",
      "577\n",
      "578\n",
      "579\n",
      "580\n",
      "581\n",
      "582\n",
      "583\n",
      "584\n",
      "585\n",
      "586\n",
      "587\n",
      "588\n",
      "589\n",
      "590\n",
      "591\n",
      "592\n",
      "594\n",
      "595\n",
      "596\n",
      "597\n",
      "598\n",
      "599\n",
      "600\n",
      "601\n",
      "603\n",
      "604\n",
      "605\n",
      "606\n",
      "607\n",
      "608\n",
      "609\n",
      "610\n",
      "611\n",
      "612\n",
      "613\n",
      "614\n",
      "615\n",
      "616\n",
      "618\n",
      "619\n",
      "620\n",
      "628\n",
      "636\n",
      "637\n",
      "638\n",
      "639\n",
      "640\n",
      "641\n",
      "642\n",
      "643\n",
      "644\n",
      "645\n",
      "646\n",
      "647\n",
      "648\n",
      "649\n",
      "650\n",
      "651\n",
      "652\n",
      "653\n",
      "654\n",
      "655\n",
      "656\n",
      "657\n",
      "658\n",
      "659\n",
      "660\n",
      "661\n",
      "662\n",
      "663\n",
      "664\n",
      "665\n",
      "666\n",
      "667\n",
      "668\n",
      "669\n",
      "670\n",
      "671\n",
      "672\n",
      "673\n",
      "675\n",
      "676\n",
      "677\n",
      "679\n",
      "680\n",
      "681\n",
      "683\n",
      "684\n",
      "685\n",
      "686\n",
      "688\n",
      "692\n",
      "693\n",
      "694\n",
      "695\n",
      "696\n",
      "697\n",
      "698\n",
      "700\n",
      "701\n",
      "702\n",
      "703\n",
      "704\n",
      "707\n",
      "708\n",
      "851\n",
      "852\n",
      "855\n",
      "856\n",
      "861\n",
      "863\n",
      "864\n",
      "865\n",
      "867\n",
      "887\n",
      "888\n",
      "1047\n",
      "1091\n",
      "1439\n",
      "1440\n",
      "1443\n",
      "1513\n",
      "1536\n",
      "1664\n",
      "1804\n",
      "1825\n",
      "2063\n",
      "2064\n",
      "2316\n",
      "2339\n",
      "2592\n",
      "2828\n",
      "3069\n",
      "3084\n",
      "3105\n",
      "3111\n",
      "3114\n",
      "3116\n",
      "3123\n",
      "3153\n",
      "3187\n",
      "3272\n",
      "3278\n",
      "3279\n",
      "3287\n",
      "3288\n",
      "3297\n",
      "3317\n",
      "3328\n",
      "3335\n",
      "3340\n",
      "3341\n",
      "3346\n",
      "3347\n",
      "3351\n",
      "3352\n",
      "3353\n",
      "3360\n",
      "3363\n",
      "3365\n",
      "3372\n",
      "3398\n",
      "3406\n",
      "3408\n",
      "3476\n",
      "3527\n",
      "3528\n",
      "3642\n",
      "3805\n",
      "4040\n",
      "4041\n",
      "4091\n",
      "4123\n"
     ]
    },
    {
     "ename": "IndexError",
     "evalue": "list index out of range",
     "output_type": "error",
     "traceback": [
      "\u001b[1;31m---------------------------------------------------------------------------\u001b[0m",
      "\u001b[1;31mIndexError\u001b[0m                                Traceback (most recent call last)",
      "\u001b[1;32m<ipython-input-434-ba398ac8cabe>\u001b[0m in \u001b[0;36m<module>\u001b[1;34m()\u001b[0m\n\u001b[0;32m      1\u001b[0m \u001b[1;32mfor\u001b[0m \u001b[0mi\u001b[0m \u001b[1;32min\u001b[0m \u001b[0mrange\u001b[0m\u001b[1;33m(\u001b[0m\u001b[1;36m200000\u001b[0m\u001b[1;33m)\u001b[0m\u001b[1;33m:\u001b[0m\u001b[1;33m\u001b[0m\u001b[0m\n\u001b[1;32m----> 2\u001b[1;33m     \u001b[1;32mfor\u001b[0m \u001b[0mkey\u001b[0m\u001b[1;33m,\u001b[0m \u001b[0m_\u001b[0m \u001b[1;32min\u001b[0m \u001b[0mrecordings\u001b[0m\u001b[1;33m[\u001b[0m\u001b[0mi\u001b[0m\u001b[1;33m]\u001b[0m\u001b[1;33m.\u001b[0m\u001b[0mitems\u001b[0m\u001b[1;33m(\u001b[0m\u001b[1;33m)\u001b[0m\u001b[1;33m:\u001b[0m\u001b[1;33m\u001b[0m\u001b[0m\n\u001b[0m\u001b[0;32m      3\u001b[0m         \u001b[1;32mif\u001b[0m \u001b[0mlen\u001b[0m\u001b[1;33m(\u001b[0m\u001b[0mrecordings\u001b[0m\u001b[1;33m[\u001b[0m\u001b[0mi\u001b[0m\u001b[1;33m]\u001b[0m\u001b[1;33m[\u001b[0m\u001b[0mkey\u001b[0m\u001b[1;33m]\u001b[0m\u001b[1;33m)\u001b[0m \u001b[1;33m==\u001b[0m \u001b[1;36m3\u001b[0m\u001b[1;33m:\u001b[0m\u001b[1;33m\u001b[0m\u001b[0m\n\u001b[0;32m      4\u001b[0m             \u001b[1;32mprint\u001b[0m \u001b[0mi\u001b[0m\u001b[1;33m\u001b[0m\u001b[0m\n\u001b[0;32m      5\u001b[0m             \u001b[1;32mbreak\u001b[0m\u001b[1;33m\u001b[0m\u001b[0m\n",
      "\u001b[1;31mIndexError\u001b[0m: list index out of range"
     ]
    }
   ],
   "source": [
    "for i in range(200000):\n",
    "    for key, _ in recordings[i].items():\n",
    "        if len(recordings[i][key]) == 3:\n",
    "            print i\n",
    "            break"
   ]
  },
  {
   "cell_type": "code",
   "execution_count": 394,
   "metadata": {
    "collapsed": false
   },
   "outputs": [
    {
     "data": {
      "text/plain": [
       "1"
      ]
     },
     "execution_count": 394,
     "metadata": {},
     "output_type": "execute_result"
    }
   ],
   "source": [
    "len(recordings[3400]['k'])"
   ]
  },
  {
   "cell_type": "code",
   "execution_count": null,
   "metadata": {
    "collapsed": true
   },
   "outputs": [],
   "source": []
  },
  {
   "cell_type": "code",
   "execution_count": null,
   "metadata": {
    "collapsed": true
   },
   "outputs": [],
   "source": []
  },
  {
   "cell_type": "code",
   "execution_count": null,
   "metadata": {
    "collapsed": true
   },
   "outputs": [],
   "source": []
  },
  {
   "cell_type": "code",
   "execution_count": null,
   "metadata": {
    "collapsed": true
   },
   "outputs": [],
   "source": []
  }
 ],
 "metadata": {
  "kernelspec": {
   "display_name": "Python 2",
   "language": "python",
   "name": "python2"
  },
  "language_info": {
   "codemirror_mode": {
    "name": "ipython",
    "version": 2
   },
   "file_extension": ".py",
   "mimetype": "text/x-python",
   "name": "python",
   "nbconvert_exporter": "python",
   "pygments_lexer": "ipython2",
   "version": "2.7.11"
  }
 },
 "nbformat": 4,
 "nbformat_minor": 0
}
